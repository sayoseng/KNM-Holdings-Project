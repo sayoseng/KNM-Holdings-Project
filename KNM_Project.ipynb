{
  "nbformat": 4,
  "nbformat_minor": 0,
  "metadata": {
    "kernelspec": {
      "name": "python36",
      "display_name": "Python 3.6",
      "language": "python"
    },
    "language_info": {
      "mimetype": "text/x-python",
      "nbconvert_exporter": "python",
      "name": "python",
      "pygments_lexer": "ipython3",
      "version": "3.6.6",
      "file_extension": ".py",
      "codemirror_mode": {
        "version": 3,
        "name": "ipython"
      }
    },
    "colab": {
      "name": "KNM Project.ipynb",
      "provenance": [],
      "collapsed_sections": []
    }
  },
  "cells": [
    {
      "cell_type": "code",
      "metadata": {
        "trusted": true,
        "id": "8N75QdJG0qSn",
        "colab_type": "code",
        "colab": {}
      },
      "source": [
        "import numpy as np\n",
        "import pandas as pd\n",
        "from matplotlib import pyplot as plt\n",
        "%matplotlib inline\n",
        "import seaborn as sns\n",
        "from sklearn.model_selection import train_test_split\n",
        "from sklearn.metrics import mean_squared_error, r2_score"
      ],
      "execution_count": 2,
      "outputs": []
    },
    {
      "cell_type": "code",
      "metadata": {
        "trusted": true,
        "id": "F2k5RrVA0qSr",
        "colab_type": "code",
        "colab": {}
      },
      "source": [
        "df = pd.read_csv('KNMData_Final.csv')"
      ],
      "execution_count": 3,
      "outputs": []
    },
    {
      "cell_type": "code",
      "metadata": {
        "trusted": true,
        "id": "MFeU8K9S0qSu",
        "colab_type": "code",
        "colab": {
          "base_uri": "https://localhost:8080/",
          "height": 204
        },
        "outputId": "c7dab88b-9ae8-4c4d-9b85-f2399da2f5da"
      },
      "source": [
        "#In this project we are trying to perform predictive analysis on the Sales column using the given observational data\n",
        "df.head()"
      ],
      "execution_count": 4,
      "outputs": [
        {
          "output_type": "execute_result",
          "data": {
            "text/html": [
              "<div>\n",
              "<style scoped>\n",
              "    .dataframe tbody tr th:only-of-type {\n",
              "        vertical-align: middle;\n",
              "    }\n",
              "\n",
              "    .dataframe tbody tr th {\n",
              "        vertical-align: top;\n",
              "    }\n",
              "\n",
              "    .dataframe thead th {\n",
              "        text-align: right;\n",
              "    }\n",
              "</style>\n",
              "<table border=\"1\" class=\"dataframe\">\n",
              "  <thead>\n",
              "    <tr style=\"text-align: right;\">\n",
              "      <th></th>\n",
              "      <th>Restaurant_Num</th>\n",
              "      <th>Sales</th>\n",
              "      <th>Customer_Count</th>\n",
              "      <th>Week</th>\n",
              "      <th>Day</th>\n",
              "      <th>Day_Friday</th>\n",
              "      <th>Day_Monday</th>\n",
              "      <th>Day_Saturday</th>\n",
              "      <th>Day_Sunday</th>\n",
              "      <th>Day_Thursday</th>\n",
              "      <th>Day_Tuesday</th>\n",
              "      <th>Day_Wednesday</th>\n",
              "    </tr>\n",
              "  </thead>\n",
              "  <tbody>\n",
              "    <tr>\n",
              "      <th>0</th>\n",
              "      <td>254</td>\n",
              "      <td>1676.71</td>\n",
              "      <td>235</td>\n",
              "      <td>1</td>\n",
              "      <td>Friday</td>\n",
              "      <td>1</td>\n",
              "      <td>0</td>\n",
              "      <td>0</td>\n",
              "      <td>0</td>\n",
              "      <td>0</td>\n",
              "      <td>0</td>\n",
              "      <td>0</td>\n",
              "    </tr>\n",
              "    <tr>\n",
              "      <th>1</th>\n",
              "      <td>254</td>\n",
              "      <td>0.59</td>\n",
              "      <td>1</td>\n",
              "      <td>1</td>\n",
              "      <td>Monday</td>\n",
              "      <td>0</td>\n",
              "      <td>1</td>\n",
              "      <td>0</td>\n",
              "      <td>0</td>\n",
              "      <td>0</td>\n",
              "      <td>0</td>\n",
              "      <td>0</td>\n",
              "    </tr>\n",
              "    <tr>\n",
              "      <th>2</th>\n",
              "      <td>254</td>\n",
              "      <td>1069.29</td>\n",
              "      <td>146</td>\n",
              "      <td>1</td>\n",
              "      <td>Saturday</td>\n",
              "      <td>0</td>\n",
              "      <td>0</td>\n",
              "      <td>1</td>\n",
              "      <td>0</td>\n",
              "      <td>0</td>\n",
              "      <td>0</td>\n",
              "      <td>0</td>\n",
              "    </tr>\n",
              "    <tr>\n",
              "      <th>3</th>\n",
              "      <td>254</td>\n",
              "      <td>903.32</td>\n",
              "      <td>109</td>\n",
              "      <td>1</td>\n",
              "      <td>Sunday</td>\n",
              "      <td>0</td>\n",
              "      <td>0</td>\n",
              "      <td>0</td>\n",
              "      <td>1</td>\n",
              "      <td>0</td>\n",
              "      <td>0</td>\n",
              "      <td>0</td>\n",
              "    </tr>\n",
              "    <tr>\n",
              "      <th>4</th>\n",
              "      <td>254</td>\n",
              "      <td>1486.67</td>\n",
              "      <td>211</td>\n",
              "      <td>1</td>\n",
              "      <td>Thursday</td>\n",
              "      <td>0</td>\n",
              "      <td>0</td>\n",
              "      <td>0</td>\n",
              "      <td>0</td>\n",
              "      <td>1</td>\n",
              "      <td>0</td>\n",
              "      <td>0</td>\n",
              "    </tr>\n",
              "  </tbody>\n",
              "</table>\n",
              "</div>"
            ],
            "text/plain": [
              "   Restaurant_Num    Sales  ...  Day_Tuesday  Day_Wednesday\n",
              "0             254  1676.71  ...            0              0\n",
              "1             254     0.59  ...            0              0\n",
              "2             254  1069.29  ...            0              0\n",
              "3             254   903.32  ...            0              0\n",
              "4             254  1486.67  ...            0              0\n",
              "\n",
              "[5 rows x 12 columns]"
            ]
          },
          "metadata": {
            "tags": []
          },
          "execution_count": 4
        }
      ]
    },
    {
      "cell_type": "code",
      "metadata": {
        "trusted": true,
        "id": "--vlruse0qSy",
        "colab_type": "code",
        "colab": {},
        "outputId": "55151ac8-c2ab-4e59-84a4-d28084b4de2a"
      },
      "source": [
        "df.count()"
      ],
      "execution_count": null,
      "outputs": [
        {
          "output_type": "execute_result",
          "data": {
            "text/plain": [
              "Restaurant_Num    6762\n",
              "Sales             6762\n",
              "Customer_Count    6762\n",
              "Week              6762\n",
              "Day               6762\n",
              "Day_Friday        6762\n",
              "Day_Monday        6762\n",
              "Day_Saturday      6762\n",
              "Day_Sunday        6762\n",
              "Day_Thursday      6762\n",
              "Day_Tuesday       6762\n",
              "Day_Wednesday     6762\n",
              "dtype: int64"
            ]
          },
          "metadata": {
            "tags": []
          },
          "execution_count": 7
        }
      ]
    },
    {
      "cell_type": "code",
      "metadata": {
        "trusted": true,
        "id": "fgrXWZ3X0qS2",
        "colab_type": "code",
        "colab": {},
        "outputId": "976ba124-aecd-4b0c-b499-3dbcf7f9b993"
      },
      "source": [
        "df.isnull().sum()"
      ],
      "execution_count": null,
      "outputs": [
        {
          "output_type": "execute_result",
          "data": {
            "text/plain": [
              "Restaurant_Num    0\n",
              "Sales             0\n",
              "Customer_Count    0\n",
              "Week              0\n",
              "Day               0\n",
              "Day_Friday        0\n",
              "Day_Monday        0\n",
              "Day_Saturday      0\n",
              "Day_Sunday        0\n",
              "Day_Thursday      0\n",
              "Day_Tuesday       0\n",
              "Day_Wednesday     0\n",
              "dtype: int64"
            ]
          },
          "metadata": {
            "tags": []
          },
          "execution_count": 47
        }
      ]
    },
    {
      "cell_type": "code",
      "metadata": {
        "trusted": true,
        "id": "3HNydr_90qS6",
        "colab_type": "code",
        "colab": {},
        "outputId": "cbe7463c-14de-4a5e-d66a-d62994bbec5d"
      },
      "source": [
        "!pip install pandas-profiling"
      ],
      "execution_count": null,
      "outputs": [
        {
          "output_type": "stream",
          "text": [
            "Requirement already satisfied: pandas-profiling in /home/nbuser/anaconda3_501/lib/python3.6/site-packages (2.8.0)\n",
            "Requirement already satisfied: missingno>=0.4.2 in /home/nbuser/anaconda3_501/lib/python3.6/site-packages (from pandas-profiling) (0.4.2)\n",
            "Requirement already satisfied: astropy>=4.0 in /home/nbuser/anaconda3_501/lib/python3.6/site-packages (from pandas-profiling) (4.0.1.post1)\n",
            "Requirement already satisfied: scipy>=1.4.1 in /home/nbuser/anaconda3_501/lib/python3.6/site-packages (from pandas-profiling) (1.5.0)\n",
            "Requirement already satisfied: numpy>=1.16.0 in /home/nbuser/anaconda3_501/lib/python3.6/site-packages (from pandas-profiling) (1.16.2)\n",
            "Requirement already satisfied: htmlmin>=0.1.12 in /home/nbuser/anaconda3_501/lib/python3.6/site-packages (from pandas-profiling) (0.1.12)\n",
            "Requirement already satisfied: confuse>=1.0.0 in /home/nbuser/anaconda3_501/lib/python3.6/site-packages (from pandas-profiling) (1.1.0)\n",
            "Requirement already satisfied: matplotlib>=3.2.0 in /home/nbuser/anaconda3_501/lib/python3.6/site-packages (from pandas-profiling) (3.2.2)\n",
            "Requirement already satisfied: tqdm>=4.43.0 in /home/nbuser/anaconda3_501/lib/python3.6/site-packages (from pandas-profiling) (4.46.1)\n",
            "Requirement already satisfied: visions[type_image_path]==0.4.4 in /home/nbuser/anaconda3_501/lib/python3.6/site-packages (from pandas-profiling) (0.4.4)\n",
            "Requirement already satisfied: phik>=0.9.10 in /home/nbuser/anaconda3_501/lib/python3.6/site-packages (from pandas-profiling) (0.10.0)\n",
            "Requirement already satisfied: joblib in /home/nbuser/anaconda3_501/lib/python3.6/site-packages (from pandas-profiling) (0.14.0)\n",
            "Requirement already satisfied: pandas!=1.0.0,!=1.0.1,!=1.0.2,>=0.25.3 in /home/nbuser/anaconda3_501/lib/python3.6/site-packages (from pandas-profiling) (1.0.5)\n",
            "Requirement already satisfied: jinja2>=2.11.1 in /home/nbuser/anaconda3_501/lib/python3.6/site-packages (from pandas-profiling) (2.11.2)\n",
            "Requirement already satisfied: tangled-up-in-unicode>=0.0.6 in /home/nbuser/anaconda3_501/lib/python3.6/site-packages (from pandas-profiling) (0.0.6)\n",
            "Requirement already satisfied: requests>=2.23.0 in /home/nbuser/anaconda3_501/lib/python3.6/site-packages (from pandas-profiling) (2.24.0)\n",
            "Requirement already satisfied: ipywidgets>=7.5.1 in /home/nbuser/anaconda3_501/lib/python3.6/site-packages (from pandas-profiling) (7.5.1)\n",
            "Requirement already satisfied: seaborn in /home/nbuser/anaconda3_501/lib/python3.6/site-packages (from missingno>=0.4.2->pandas-profiling) (0.9.0)\n",
            "Requirement already satisfied: pyyaml in /home/nbuser/anaconda3_501/lib/python3.6/site-packages (from confuse>=1.0.0->pandas-profiling) (3.13)\n",
            "Requirement already satisfied: cycler>=0.10 in /home/nbuser/anaconda3_501/lib/python3.6/site-packages (from matplotlib>=3.2.0->pandas-profiling) (0.10.0)\n",
            "Requirement already satisfied: python-dateutil>=2.1 in /home/nbuser/anaconda3_501/lib/python3.6/site-packages (from matplotlib>=3.2.0->pandas-profiling) (2.8.1)\n",
            "Requirement already satisfied: kiwisolver>=1.0.1 in /home/nbuser/anaconda3_501/lib/python3.6/site-packages (from matplotlib>=3.2.0->pandas-profiling) (1.0.1)\n",
            "Requirement already satisfied: pyparsing!=2.0.4,!=2.1.2,!=2.1.6,>=2.0.1 in /home/nbuser/anaconda3_501/lib/python3.6/site-packages (from matplotlib>=3.2.0->pandas-profiling) (2.3.0)\n",
            "Requirement already satisfied: networkx>=2.4 in /home/nbuser/anaconda3_501/lib/python3.6/site-packages (from visions[type_image_path]==0.4.4->pandas-profiling) (2.4)\n",
            "Requirement already satisfied: attrs>=19.3.0 in /home/nbuser/anaconda3_501/lib/python3.6/site-packages (from visions[type_image_path]==0.4.4->pandas-profiling) (19.3.0)\n",
            "Requirement already satisfied: imagehash; extra == \"type_image_path\" in /home/nbuser/anaconda3_501/lib/python3.6/site-packages (from visions[type_image_path]==0.4.4->pandas-profiling) (4.1.0)\n",
            "Requirement already satisfied: Pillow; extra == \"type_image_path\" in /home/nbuser/anaconda3_501/lib/python3.6/site-packages (from visions[type_image_path]==0.4.4->pandas-profiling) (5.3.0)\n",
            "Requirement already satisfied: numba>=0.38.1 in /home/nbuser/anaconda3_501/lib/python3.6/site-packages (from phik>=0.9.10->pandas-profiling) (0.40.0)\n",
            "Requirement already satisfied: pytz>=2017.2 in /home/nbuser/anaconda3_501/lib/python3.6/site-packages (from pandas!=1.0.0,!=1.0.1,!=1.0.2,>=0.25.3->pandas-profiling) (2019.3)\n",
            "Requirement already satisfied: MarkupSafe>=0.23 in /home/nbuser/anaconda3_501/lib/python3.6/site-packages (from jinja2>=2.11.1->pandas-profiling) (1.1.0)\n",
            "Requirement already satisfied: idna<3,>=2.5 in /home/nbuser/anaconda3_501/lib/python3.6/site-packages (from requests>=2.23.0->pandas-profiling) (2.7)\n",
            "Requirement already satisfied: urllib3!=1.25.0,!=1.25.1,<1.26,>=1.21.1 in /home/nbuser/anaconda3_501/lib/python3.6/site-packages (from requests>=2.23.0->pandas-profiling) (1.23)\n",
            "Requirement already satisfied: chardet<4,>=3.0.2 in /home/nbuser/anaconda3_501/lib/python3.6/site-packages (from requests>=2.23.0->pandas-profiling) (3.0.4)\n",
            "Requirement already satisfied: certifi>=2017.4.17 in /home/nbuser/anaconda3_501/lib/python3.6/site-packages (from requests>=2.23.0->pandas-profiling) (2018.10.15)\n",
            "Requirement already satisfied: nbformat>=4.2.0 in /home/nbuser/anaconda3_501/lib/python3.6/site-packages (from ipywidgets>=7.5.1->pandas-profiling) (4.4.0)\n",
            "Requirement already satisfied: ipykernel>=4.5.1 in /home/nbuser/anaconda3_501/lib/python3.6/site-packages (from ipywidgets>=7.5.1->pandas-profiling) (5.1.3)\n",
            "Requirement already satisfied: widgetsnbextension~=3.5.0 in /home/nbuser/anaconda3_501/lib/python3.6/site-packages (from ipywidgets>=7.5.1->pandas-profiling) (3.5.1)\n",
            "Requirement already satisfied: ipython>=4.0.0; python_version >= \"3.3\" in /home/nbuser/anaconda3_501/lib/python3.6/site-packages (from ipywidgets>=7.5.1->pandas-profiling) (7.1.1)\n",
            "Requirement already satisfied: traitlets>=4.3.1 in /home/nbuser/anaconda3_501/lib/python3.6/site-packages (from ipywidgets>=7.5.1->pandas-profiling) (4.3.2)\n",
            "Requirement already satisfied: six in /home/nbuser/anaconda3_501/lib/python3.6/site-packages (from cycler>=0.10->matplotlib>=3.2.0->pandas-profiling) (1.11.0)\n",
            "Requirement already satisfied: setuptools in /home/nbuser/anaconda3_501/lib/python3.6/site-packages (from kiwisolver>=1.0.1->matplotlib>=3.2.0->pandas-profiling) (41.6.0)\n",
            "Requirement already satisfied: decorator>=4.3.0 in /home/nbuser/anaconda3_501/lib/python3.6/site-packages (from networkx>=2.4->visions[type_image_path]==0.4.4->pandas-profiling) (4.3.0)\n",
            "Requirement already satisfied: PyWavelets in /home/nbuser/anaconda3_501/lib/python3.6/site-packages (from imagehash; extra == \"type_image_path\"->visions[type_image_path]==0.4.4->pandas-profiling) (1.0.1)\n",
            "Requirement already satisfied: llvmlite>=0.25.0dev0 in /home/nbuser/anaconda3_501/lib/python3.6/site-packages (from numba>=0.38.1->phik>=0.9.10->pandas-profiling) (0.25.0)\n",
            "Requirement already satisfied: ipython-genutils in /home/nbuser/anaconda3_501/lib/python3.6/site-packages (from nbformat>=4.2.0->ipywidgets>=7.5.1->pandas-profiling) (0.2.0)\n",
            "Requirement already satisfied: jupyter-core in /home/nbuser/anaconda3_501/lib/python3.6/site-packages (from nbformat>=4.2.0->ipywidgets>=7.5.1->pandas-profiling) (4.4.0)\n",
            "Requirement already satisfied: jsonschema!=2.5.0,>=2.4 in /home/nbuser/anaconda3_501/lib/python3.6/site-packages (from nbformat>=4.2.0->ipywidgets>=7.5.1->pandas-profiling) (2.6.0)\n",
            "Requirement already satisfied: tornado>=4.2 in /home/nbuser/anaconda3_501/lib/python3.6/site-packages (from ipykernel>=4.5.1->ipywidgets>=7.5.1->pandas-profiling) (4.5.3)\n",
            "Requirement already satisfied: jupyter-client in /home/nbuser/anaconda3_501/lib/python3.6/site-packages (from ipykernel>=4.5.1->ipywidgets>=7.5.1->pandas-profiling) (5.2.3)\n",
            "Requirement already satisfied: notebook>=4.4.1 in /home/nbuser/anaconda3_501/lib/python3.6/site-packages (from widgetsnbextension~=3.5.0->ipywidgets>=7.5.1->pandas-profiling) (5.7.2)\n",
            "Requirement already satisfied: pexpect; sys_platform != \"win32\" in /home/nbuser/anaconda3_501/lib/python3.6/site-packages (from ipython>=4.0.0; python_version >= \"3.3\"->ipywidgets>=7.5.1->pandas-profiling) (4.6.0)\n",
            "Requirement already satisfied: backcall in /home/nbuser/anaconda3_501/lib/python3.6/site-packages (from ipython>=4.0.0; python_version >= \"3.3\"->ipywidgets>=7.5.1->pandas-profiling) (0.1.0)\n"
          ],
          "name": "stdout"
        },
        {
          "output_type": "stream",
          "text": [
            "Requirement already satisfied: prompt-toolkit<2.1.0,>=2.0.0 in /home/nbuser/anaconda3_501/lib/python3.6/site-packages (from ipython>=4.0.0; python_version >= \"3.3\"->ipywidgets>=7.5.1->pandas-profiling) (2.0.7)\n",
            "Requirement already satisfied: jedi>=0.10 in /home/nbuser/anaconda3_501/lib/python3.6/site-packages (from ipython>=4.0.0; python_version >= \"3.3\"->ipywidgets>=7.5.1->pandas-profiling) (0.13.1)\n",
            "Requirement already satisfied: pygments in /home/nbuser/anaconda3_501/lib/python3.6/site-packages (from ipython>=4.0.0; python_version >= \"3.3\"->ipywidgets>=7.5.1->pandas-profiling) (2.2.0)\n",
            "Requirement already satisfied: pickleshare in /home/nbuser/anaconda3_501/lib/python3.6/site-packages (from ipython>=4.0.0; python_version >= \"3.3\"->ipywidgets>=7.5.1->pandas-profiling) (0.7.5)\n",
            "Requirement already satisfied: pyzmq>=13 in /home/nbuser/anaconda3_501/lib/python3.6/site-packages (from jupyter-client->ipykernel>=4.5.1->ipywidgets>=7.5.1->pandas-profiling) (17.1.2)\n",
            "Requirement already satisfied: nbconvert in /home/nbuser/anaconda3_501/lib/python3.6/site-packages (from notebook>=4.4.1->widgetsnbextension~=3.5.0->ipywidgets>=7.5.1->pandas-profiling) (5.6.1)\n",
            "Requirement already satisfied: terminado>=0.8.1 in /home/nbuser/anaconda3_501/lib/python3.6/site-packages (from notebook>=4.4.1->widgetsnbextension~=3.5.0->ipywidgets>=7.5.1->pandas-profiling) (0.8.1)\n",
            "Requirement already satisfied: Send2Trash in /home/nbuser/anaconda3_501/lib/python3.6/site-packages (from notebook>=4.4.1->widgetsnbextension~=3.5.0->ipywidgets>=7.5.1->pandas-profiling) (1.5.0)\n",
            "Requirement already satisfied: prometheus-client in /home/nbuser/anaconda3_501/lib/python3.6/site-packages (from notebook>=4.4.1->widgetsnbextension~=3.5.0->ipywidgets>=7.5.1->pandas-profiling) (0.4.2)\n",
            "Requirement already satisfied: ptyprocess>=0.5 in /home/nbuser/anaconda3_501/lib/python3.6/site-packages (from pexpect; sys_platform != \"win32\"->ipython>=4.0.0; python_version >= \"3.3\"->ipywidgets>=7.5.1->pandas-profiling) (0.6.0)\n",
            "Requirement already satisfied: wcwidth in /home/nbuser/anaconda3_501/lib/python3.6/site-packages (from prompt-toolkit<2.1.0,>=2.0.0->ipython>=4.0.0; python_version >= \"3.3\"->ipywidgets>=7.5.1->pandas-profiling) (0.1.7)\n",
            "Requirement already satisfied: parso>=0.3.0 in /home/nbuser/anaconda3_501/lib/python3.6/site-packages (from jedi>=0.10->ipython>=4.0.0; python_version >= \"3.3\"->ipywidgets>=7.5.1->pandas-profiling) (0.3.1)\n",
            "Requirement already satisfied: entrypoints>=0.2.2 in /home/nbuser/anaconda3_501/lib/python3.6/site-packages (from nbconvert->notebook>=4.4.1->widgetsnbextension~=3.5.0->ipywidgets>=7.5.1->pandas-profiling) (0.2.3)\n",
            "Requirement already satisfied: pandocfilters>=1.4.1 in /home/nbuser/anaconda3_501/lib/python3.6/site-packages (from nbconvert->notebook>=4.4.1->widgetsnbextension~=3.5.0->ipywidgets>=7.5.1->pandas-profiling) (1.4.2)\n",
            "Requirement already satisfied: defusedxml in /home/nbuser/anaconda3_501/lib/python3.6/site-packages (from nbconvert->notebook>=4.4.1->widgetsnbextension~=3.5.0->ipywidgets>=7.5.1->pandas-profiling) (0.5.0)\n",
            "Requirement already satisfied: bleach in /home/nbuser/anaconda3_501/lib/python3.6/site-packages (from nbconvert->notebook>=4.4.1->widgetsnbextension~=3.5.0->ipywidgets>=7.5.1->pandas-profiling) (1.5.0)\n",
            "Requirement already satisfied: mistune<2,>=0.8.1 in /home/nbuser/anaconda3_501/lib/python3.6/site-packages (from nbconvert->notebook>=4.4.1->widgetsnbextension~=3.5.0->ipywidgets>=7.5.1->pandas-profiling) (0.8.4)\n",
            "Requirement already satisfied: testpath in /home/nbuser/anaconda3_501/lib/python3.6/site-packages (from nbconvert->notebook>=4.4.1->widgetsnbextension~=3.5.0->ipywidgets>=7.5.1->pandas-profiling) (0.4.2)\n",
            "Requirement already satisfied: html5lib!=0.9999,!=0.99999,<0.99999999,>=0.999 in /home/nbuser/anaconda3_501/lib/python3.6/site-packages (from bleach->nbconvert->notebook>=4.4.1->widgetsnbextension~=3.5.0->ipywidgets>=7.5.1->pandas-profiling) (0.9999999)\n",
            "\u001b[33mWARNING: You are using pip version 19.3.1; however, version 20.1.1 is available.\n",
            "You should consider upgrading via the 'pip install --upgrade pip' command.\u001b[0m\n"
          ],
          "name": "stdout"
        }
      ]
    },
    {
      "cell_type": "code",
      "metadata": {
        "trusted": true,
        "id": "C3VsK4aq0qS-",
        "colab_type": "code",
        "colab": {}
      },
      "source": [
        "from pandas_profiling import ProfileReport"
      ],
      "execution_count": null,
      "outputs": []
    },
    {
      "cell_type": "code",
      "metadata": {
        "trusted": true,
        "id": "I1t3aCT00qTC",
        "colab_type": "code",
        "colab": {
          "referenced_widgets": [
            "53bb3cfe10b0477f8ed00474ec3c0b42",
            "f464fdb2a01a450480cff3c72357b056",
            "aad24dd04d7244878336ea824c4d4b05",
            "2c9ab72071c04fb7b50b5acfc0b7181a"
          ]
        },
        "outputId": "12698695-fa76-4041-bf3d-1ef430967dd1"
      },
      "source": [
        " #Generates a report with visuals to understand the data better\n",
        " profile = ProfileReport(df, title='Pandas Profiling Report')\n",
        " profile.to_file(output_file=\"Detailed Exploratory Data Analysis Report1.html\")"
      ],
      "execution_count": null,
      "outputs": [
        {
          "output_type": "display_data",
          "data": {
            "application/vnd.jupyter.widget-view+json": {
              "model_id": "53bb3cfe10b0477f8ed00474ec3c0b42",
              "version_minor": 0,
              "version_major": 2
            },
            "text/plain": [
              "HBox(children=(FloatProgress(value=0.0, description='Summarize dataset', max=26.0, style=ProgressStyle(descrip…"
            ]
          },
          "metadata": {
            "tags": []
          }
        },
        {
          "output_type": "stream",
          "text": [
            "\n"
          ],
          "name": "stdout"
        },
        {
          "output_type": "display_data",
          "data": {
            "application/vnd.jupyter.widget-view+json": {
              "model_id": "f464fdb2a01a450480cff3c72357b056",
              "version_minor": 0,
              "version_major": 2
            },
            "text/plain": [
              "HBox(children=(FloatProgress(value=0.0, description='Generate report structure', max=1.0, style=ProgressStyle(…"
            ]
          },
          "metadata": {
            "tags": []
          }
        },
        {
          "output_type": "stream",
          "text": [
            "\n"
          ],
          "name": "stdout"
        },
        {
          "output_type": "display_data",
          "data": {
            "application/vnd.jupyter.widget-view+json": {
              "model_id": "aad24dd04d7244878336ea824c4d4b05",
              "version_minor": 0,
              "version_major": 2
            },
            "text/plain": [
              "HBox(children=(FloatProgress(value=0.0, description='Render HTML', max=1.0, style=ProgressStyle(description_wi…"
            ]
          },
          "metadata": {
            "tags": []
          }
        },
        {
          "output_type": "stream",
          "text": [
            "\n"
          ],
          "name": "stdout"
        },
        {
          "output_type": "display_data",
          "data": {
            "application/vnd.jupyter.widget-view+json": {
              "model_id": "2c9ab72071c04fb7b50b5acfc0b7181a",
              "version_minor": 0,
              "version_major": 2
            },
            "text/plain": [
              "HBox(children=(FloatProgress(value=0.0, description='Export report to file', max=1.0, style=ProgressStyle(desc…"
            ]
          },
          "metadata": {
            "tags": []
          }
        },
        {
          "output_type": "stream",
          "text": [
            "\n"
          ],
          "name": "stdout"
        }
      ]
    },
    {
      "cell_type": "code",
      "metadata": {
        "trusted": true,
        "id": "93WhBTdc0qTH",
        "colab_type": "code",
        "colab": {
          "base_uri": "https://localhost:8080/",
          "height": 221
        },
        "outputId": "3c126f27-961e-4d02-a465-8c490c3802ef"
      },
      "source": [
        "list(df.columns)"
      ],
      "execution_count": 8,
      "outputs": [
        {
          "output_type": "execute_result",
          "data": {
            "text/plain": [
              "['Restaurant_Num',\n",
              " 'Sales',\n",
              " 'Customer_Count',\n",
              " 'Week',\n",
              " 'Day',\n",
              " 'Day_Friday',\n",
              " 'Day_Monday',\n",
              " 'Day_Saturday',\n",
              " 'Day_Sunday',\n",
              " 'Day_Thursday',\n",
              " 'Day_Tuesday',\n",
              " 'Day_Wednesday']"
            ]
          },
          "metadata": {
            "tags": []
          },
          "execution_count": 8
        }
      ]
    },
    {
      "cell_type": "code",
      "metadata": {
        "trusted": true,
        "id": "ITXi9bOx0qTK",
        "colab_type": "code",
        "colab": {
          "base_uri": "https://localhost:8080/",
          "height": 204
        },
        "outputId": "a6897b5e-c3a6-47f8-8dcf-9f1ba605a6d7"
      },
      "source": [
        "#Drops Restaurant_Num as it is a noise Variable\n",
        "df1 = df.drop(['Restaurant_Num'], axis=1)\n",
        "list(df1.columns)"
      ],
      "execution_count": 9,
      "outputs": [
        {
          "output_type": "execute_result",
          "data": {
            "text/plain": [
              "['Sales',\n",
              " 'Customer_Count',\n",
              " 'Week',\n",
              " 'Day',\n",
              " 'Day_Friday',\n",
              " 'Day_Monday',\n",
              " 'Day_Saturday',\n",
              " 'Day_Sunday',\n",
              " 'Day_Thursday',\n",
              " 'Day_Tuesday',\n",
              " 'Day_Wednesday']"
            ]
          },
          "metadata": {
            "tags": []
          },
          "execution_count": 9
        }
      ]
    },
    {
      "cell_type": "code",
      "metadata": {
        "trusted": true,
        "id": "jYF5R5lF0qTN",
        "colab_type": "code",
        "colab": {
          "base_uri": "https://localhost:8080/",
          "height": 221
        },
        "outputId": "c39db493-5e13-47f7-9b89-0ac91d916d70"
      },
      "source": [
        "#Checks for missing values in data. Data has already been cleaned and prepped in R so shouldn't be any\n",
        "df1.isnull().sum()"
      ],
      "execution_count": 10,
      "outputs": [
        {
          "output_type": "execute_result",
          "data": {
            "text/plain": [
              "Sales             0\n",
              "Customer_Count    0\n",
              "Week              0\n",
              "Day               0\n",
              "Day_Friday        0\n",
              "Day_Monday        0\n",
              "Day_Saturday      0\n",
              "Day_Sunday        0\n",
              "Day_Thursday      0\n",
              "Day_Tuesday       0\n",
              "Day_Wednesday     0\n",
              "dtype: int64"
            ]
          },
          "metadata": {
            "tags": []
          },
          "execution_count": 10
        }
      ]
    },
    {
      "cell_type": "code",
      "metadata": {
        "trusted": true,
        "id": "wMUpI05u0qTQ",
        "colab_type": "code",
        "colab": {
          "base_uri": "https://localhost:8080/",
          "height": 111
        },
        "outputId": "64a7fd8a-ce52-4c53-ef2f-bcdae6c73545"
      },
      "source": [
        "#Finds the correlation between sales and customer_count to undetstand the relationship between the two\n",
        "#We can see a significant positive correlation between the two variables\n",
        "#This means that as customer_count goes up sales will usually go up as well\n",
        "df[['Sales','Customer_Count']].corr()"
      ],
      "execution_count": 11,
      "outputs": [
        {
          "output_type": "execute_result",
          "data": {
            "text/html": [
              "<div>\n",
              "<style scoped>\n",
              "    .dataframe tbody tr th:only-of-type {\n",
              "        vertical-align: middle;\n",
              "    }\n",
              "\n",
              "    .dataframe tbody tr th {\n",
              "        vertical-align: top;\n",
              "    }\n",
              "\n",
              "    .dataframe thead th {\n",
              "        text-align: right;\n",
              "    }\n",
              "</style>\n",
              "<table border=\"1\" class=\"dataframe\">\n",
              "  <thead>\n",
              "    <tr style=\"text-align: right;\">\n",
              "      <th></th>\n",
              "      <th>Sales</th>\n",
              "      <th>Customer_Count</th>\n",
              "    </tr>\n",
              "  </thead>\n",
              "  <tbody>\n",
              "    <tr>\n",
              "      <th>Sales</th>\n",
              "      <td>1.000000</td>\n",
              "      <td>0.885644</td>\n",
              "    </tr>\n",
              "    <tr>\n",
              "      <th>Customer_Count</th>\n",
              "      <td>0.885644</td>\n",
              "      <td>1.000000</td>\n",
              "    </tr>\n",
              "  </tbody>\n",
              "</table>\n",
              "</div>"
            ],
            "text/plain": [
              "                   Sales  Customer_Count\n",
              "Sales           1.000000        0.885644\n",
              "Customer_Count  0.885644        1.000000"
            ]
          },
          "metadata": {
            "tags": []
          },
          "execution_count": 11
        }
      ]
    },
    {
      "cell_type": "code",
      "metadata": {
        "trusted": true,
        "id": "FjiZ_Ndk0qTT",
        "colab_type": "code",
        "colab": {
          "base_uri": "https://localhost:8080/",
          "height": 187
        },
        "outputId": "00ea3a4d-048c-48f0-faa4-e7f3522e4d83"
      },
      "source": [
        "data = df1.drop('Day',axis=1)\n",
        "list(data.columns)"
      ],
      "execution_count": 12,
      "outputs": [
        {
          "output_type": "execute_result",
          "data": {
            "text/plain": [
              "['Sales',\n",
              " 'Customer_Count',\n",
              " 'Week',\n",
              " 'Day_Friday',\n",
              " 'Day_Monday',\n",
              " 'Day_Saturday',\n",
              " 'Day_Sunday',\n",
              " 'Day_Thursday',\n",
              " 'Day_Tuesday',\n",
              " 'Day_Wednesday']"
            ]
          },
          "metadata": {
            "tags": []
          },
          "execution_count": 12
        }
      ]
    },
    {
      "cell_type": "code",
      "metadata": {
        "trusted": true,
        "id": "dp7p7G3r0qTY",
        "colab_type": "code",
        "colab": {}
      },
      "source": [
        "#This is where we begin to train our machine learning algorithms. We start with Linear Regression\n",
        "y=data.Sales\n",
        "X = data.drop('Sales',axis=1)\n",
        "#Splitting the data into train and test sections with 20% of the data in test data\n",
        "X_train, X_test, y_train, y_test = train_test_split(X , y, test_size=.2, random_state=123)\n",
        "\n",
        "from sklearn.linear_model import LinearRegression\n",
        "#Training the Linear Regression regressor\n",
        "regressor = LinearRegression()\n",
        "clf_reg = regressor.fit(X_train,y_train)\n",
        "#Predicting with the Test data\n",
        "y_pred = clf_reg.predict(X_test)"
      ],
      "execution_count": 13,
      "outputs": []
    },
    {
      "cell_type": "code",
      "metadata": {
        "trusted": true,
        "id": "2uC-3_q50qTb",
        "colab_type": "code",
        "colab": {
          "base_uri": "https://localhost:8080/",
          "height": 51
        },
        "outputId": "23bebdc6-3898-4bed-8c04-1605dc1cd165"
      },
      "source": [
        "#Printing the R^2 (accuracy) and MAE (Error) We want our R^2 to be high and error to be low\n",
        "print(r2_score(y_test, y_pred))\n",
        "print(mean_squared_error(y_test, y_pred))"
      ],
      "execution_count": 14,
      "outputs": [
        {
          "output_type": "stream",
          "text": [
            "0.8164381741010156\n",
            "152015.31286656545\n"
          ],
          "name": "stdout"
        }
      ]
    },
    {
      "cell_type": "code",
      "metadata": {
        "trusted": true,
        "id": "dwxDSk2F0qTe",
        "colab_type": "code",
        "colab": {},
        "outputId": "2e1d727a-0cf4-4faa-9514-1a1b582e12be"
      },
      "source": [
        "#Machine Learning with Random Forests Algorithm\n",
        "from sklearn.ensemble import RandomForestRegressor\n",
        "regressor = RandomForestRegressor()\n",
        "clf_rf = regressor.fit(X_train, y_train)\n",
        "y_pred = clf_rf.predict(X_test)"
      ],
      "execution_count": null,
      "outputs": [
        {
          "output_type": "stream",
          "text": [
            "/home/nbuser/anaconda3_501/lib/python3.6/site-packages/sklearn/ensemble/forest.py:246: FutureWarning: The default value of n_estimators will change from 10 in version 0.20 to 100 in 0.22.\n",
            "  \"10 in version 0.20 to 100 in 0.22.\", FutureWarning)\n"
          ],
          "name": "stderr"
        }
      ]
    },
    {
      "cell_type": "code",
      "metadata": {
        "trusted": true,
        "id": "fYmt2n9H0qTh",
        "colab_type": "code",
        "colab": {},
        "outputId": "fc959495-6bff-4a71-a9a1-ebfd2a56bc36"
      },
      "source": [
        "#Printing the R^2 (accuracy) and MAE (Error) We want our R^2 to be high and error to be low\n",
        "print(r2_score(y_test, y_pred))\n",
        "print(mean_squared_error(y_test, y_pred))"
      ],
      "execution_count": null,
      "outputs": [
        {
          "output_type": "stream",
          "text": [
            "0.7305807983330788\n",
            "223117.4375885521\n"
          ],
          "name": "stdout"
        }
      ]
    },
    {
      "cell_type": "code",
      "metadata": {
        "trusted": true,
        "id": "iF8AQqCk0qTj",
        "colab_type": "code",
        "colab": {},
        "outputId": "547444dc-3ddf-4227-e747-b10e2623dce8"
      },
      "source": [
        "!pip install auto_ml"
      ],
      "execution_count": null,
      "outputs": [
        {
          "output_type": "stream",
          "text": [
            "Collecting auto_ml\n",
            "\u001b[?25l  Downloading https://files.pythonhosted.org/packages/9f/9f/d6ac0dfa87532b321822bbbdd93ac5d0f925f0ecdf834556021ad76fd312/auto_ml-2.9.10-py2.py3-none-any.whl (71kB)\n",
            "\u001b[K     |████████████████████████████████| 71kB 243kB/s eta 0:00:01\n",
            "\u001b[?25hRequirement already satisfied: python-dateutil<3.0,>=2.6.1 in /home/nbuser/anaconda3_501/lib/python3.6/site-packages (from auto_ml) (2.8.1)\n",
            "Collecting lightgbm<2.1,>=2.0.11\n",
            "\u001b[?25l  Downloading https://files.pythonhosted.org/packages/47/4a/c1048a8bc32ae7b8e23bce956289683f8a09033af7cd6af0195d64b7620e/lightgbm-2.0.12-py2.py3-none-manylinux1_x86_64.whl (627kB)\n",
            "\u001b[K     |████████████████████████████████| 634kB 2.3MB/s eta 0:00:01\n",
            "\u001b[?25hCollecting pathos<0.3.0,>=0.2.1\n",
            "\u001b[?25l  Downloading https://files.pythonhosted.org/packages/be/ea/b2cf3a6561fc5deb64de8ae0af5e3e4e2db03ca588cb7415efce4a8de26e/pathos-0.2.6.zip (219kB)\n",
            "\u001b[K     |████████████████████████████████| 225kB 5.5MB/s eta 0:00:01\n",
            "\u001b[?25hCollecting pandas<1.0,>=0.18.0\n",
            "\u001b[?25l  Downloading https://files.pythonhosted.org/packages/52/3f/f6a428599e0d4497e1595030965b5ba455fd8ade6e977e3c819973c4b41d/pandas-0.25.3-cp36-cp36m-manylinux1_x86_64.whl (10.4MB)\n",
            "\u001b[K     |████████████████████████████████| 10.4MB 109kB/s eta 0:00:01    |████▎                           | 1.4MB 3.1MB/s eta 0:00:03     |██████                          | 2.0MB 3.1MB/s eta 0:00:03     |███████▌                        | 2.4MB 3.1MB/s eta 0:00:03     |████████████████▌               | 5.4MB 3.1MB/s eta 0:00:02     |████████████████████▌           | 6.7MB 3.1MB/s eta 0:00:02\n",
            "\u001b[?25hRequirement already satisfied: scipy<2.0,>=0.14.0 in /home/nbuser/anaconda3_501/lib/python3.6/site-packages (from auto_ml) (1.5.0)\n",
            "Requirement already satisfied: scikit-learn<1.0,>=0.18.1 in /home/nbuser/anaconda3_501/lib/python3.6/site-packages (from auto_ml) (0.20.3)\n",
            "Requirement already satisfied: tabulate<1.0,>=0.7.5 in /home/nbuser/anaconda3_501/lib/python3.6/site-packages (from auto_ml) (0.8.2)\n",
            "Requirement already satisfied: numpy<2.0,>=1.11.0 in /home/nbuser/anaconda3_501/lib/python3.6/site-packages (from auto_ml) (1.16.2)\n",
            "Collecting sklearn-deap2<0.3,>=0.2.1\n",
            "  Downloading https://files.pythonhosted.org/packages/0b/e3/149243bf8574c6c8aa0736bd61946c47717a635e988e4a990d36405f2cca/sklearn-deap2-0.2.2.tar.gz\n",
            "Requirement already satisfied: h5py<3.0,>=2.7.0 in /home/nbuser/anaconda3_501/lib/python3.6/site-packages (from auto_ml) (2.8.0)\n",
            "Collecting dill<0.3,>=0.2.5\n",
            "\u001b[?25l  Downloading https://files.pythonhosted.org/packages/fe/42/bfe2e0857bc284cbe6a011d93f2a9ad58a22cb894461b199ae72cfef0f29/dill-0.2.9.tar.gz (150kB)\n",
            "\u001b[K     |████████████████████████████████| 153kB 3.6MB/s eta 0:00:01\n",
            "\u001b[?25hRequirement already satisfied: six>=1.5 in /home/nbuser/anaconda3_501/lib/python3.6/site-packages (from python-dateutil<3.0,>=2.6.1->auto_ml) (1.11.0)\n",
            "Collecting ppft>=1.6.6.2\n",
            "\u001b[?25l  Downloading https://files.pythonhosted.org/packages/2b/fb/fa21f6e9aedc4823448473ed96e8eab64af1cb248c18165f045a90e1c6b4/ppft-1.6.6.2.zip (106kB)\n",
            "\u001b[K     |████████████████████████████████| 112kB 3.6MB/s eta 0:00:01\n",
            "\u001b[?25hCollecting pox>=0.2.8\n",
            "\u001b[?25l  Downloading https://files.pythonhosted.org/packages/1a/0c/ec447fb0ed88bc1c09bf0dadf00e40ea05fda17e841d15bb351a52d9e192/pox-0.2.8.zip (128kB)\n",
            "\u001b[K     |████████████████████████████████| 133kB 2.4MB/s eta 0:00:01\n",
            "\u001b[?25hCollecting multiprocess>=0.70.10\n",
            "\u001b[?25l  Downloading https://files.pythonhosted.org/packages/1a/4e/4591c45b85fbcbcc3de9554e20e079e0006c4332e0a780ed0883f2b07965/multiprocess-0.70.10.zip (2.4MB)\n",
            "\u001b[K     |████████████████████████████████| 2.4MB 281kB/s eta 0:00:01\n",
            "\u001b[?25hRequirement already satisfied: pytz>=2017.2 in /home/nbuser/anaconda3_501/lib/python3.6/site-packages (from pandas<1.0,>=0.18.0->auto_ml) (2019.3)\n",
            "Collecting deap>=1.0.2\n",
            "\u001b[?25l  Downloading https://files.pythonhosted.org/packages/0a/eb/2bd0a32e3ce757fb26264765abbaedd6d4d3640d90219a513aeabd08ee2b/deap-1.3.1-cp36-cp36m-manylinux2010_x86_64.whl (157kB)\n",
            "\u001b[K     |████████████████████████████████| 163kB 3.4MB/s eta 0:00:01\n",
            "\u001b[?25hBuilding wheels for collected packages: pathos, sklearn-deap2, dill, ppft, pox, multiprocess\n",
            "  Building wheel for pathos (setup.py) ... \u001b[?25ldone\n",
            "\u001b[?25h  Created wheel for pathos: filename=pathos-0.2.6-cp36-none-any.whl size=81439 sha256=121b7df97d55af70474004b339617b4929db7b83dd8b5a0f76a923b8b1e018d9\n",
            "  Stored in directory: /home/nbuser/.cache/pip/wheels/3a/e8/c8/04cdd0c4bc6fbce35f642fc004244228916daae74bb0f482da\n",
            "  Building wheel for sklearn-deap2 (setup.py) ... \u001b[?25ldone\n",
            "\u001b[?25h  Created wheel for sklearn-deap2: filename=sklearn_deap2-0.2.2-cp36-none-any.whl size=9958 sha256=086c9f4ebbcb9afa0948e60f0bea9e1f5f709b95139927fee8d46be5174d0dea\n",
            "  Stored in directory: /home/nbuser/.cache/pip/wheels/bf/3f/41/62181df83b6d15a4054d34227ef40a96d6e4c56ff6773bf9f8\n",
            "  Building wheel for dill (setup.py) ... \u001b[?25ldone\n",
            "\u001b[?25h  Created wheel for dill: filename=dill-0.2.9-cp36-none-any.whl size=79710 sha256=a1f99f90a983a8e0e4ad0d64119e3565d0f08585ecd837d79aea276639d86770\n",
            "  Stored in directory: /home/nbuser/.cache/pip/wheels/5b/d7/0f/e58eae695403de585269f4e4a94e0cd6ca60ec0c202936fa4a\n",
            "  Building wheel for ppft (setup.py) ... \u001b[?25ldone\n",
            "\u001b[?25h  Created wheel for ppft: filename=ppft-1.6.6.2-cp36-none-any.whl size=65078 sha256=172120b6f79ae2d70cf25fa0d31c9dd01a43ad25703a26754c62825e99d264bf\n",
            "  Stored in directory: /home/nbuser/.cache/pip/wheels/db/d2/2d/0ee21ede61786bb13247dbc69079373fd500c2bb0481913084\n",
            "  Building wheel for pox (setup.py) ... \u001b[?25ldone\n",
            "\u001b[?25h  Created wheel for pox: filename=pox-0.2.8-cp36-none-any.whl size=30363 sha256=fae76c5cca2bd55d62602a7053fc580988e278b4ad4678e771139c7c811dadcb\n",
            "  Stored in directory: /home/nbuser/.cache/pip/wheels/39/ed/ce/a93103746b327e18bffaeb99ba0d57a88b392f31d719cea700\n",
            "  Building wheel for multiprocess (setup.py) ... \u001b[?25ldone\n",
            "\u001b[?25h  Created wheel for multiprocess: filename=multiprocess-0.70.10-cp36-none-any.whl size=101017 sha256=3aa0610ce7465fc7a9a3cf0b70520ef895786f85ef8da1621c5bb52431b7b292\n",
            "  Stored in directory: /home/nbuser/.cache/pip/wheels/c0/97/16/5d5fc187439a97f583ff4bdafc1ae4490e1d75dd350f2c0dfa\n",
            "Successfully built pathos sklearn-deap2 dill ppft pox multiprocess\n",
            "\u001b[31mERROR: phik 0.10.0 has requirement joblib>=0.14.1, but you'll have joblib 0.14.0 which is incompatible.\u001b[0m\n",
            "\u001b[31mERROR: azureml-train-automl 1.0.72 has requirement onnxmltools==1.4.1, but you'll have onnxmltools 1.6.0 which is incompatible.\u001b[0m\n",
            "\u001b[31mERROR: azureml-train-automl 1.0.72 has requirement pandas<=0.23.4,>=0.21.0, but you'll have pandas 0.25.3 which is incompatible.\u001b[0m\n",
            "\u001b[31mERROR: azureml-train-automl 1.0.72 has requirement scipy<=1.1.0,>=1.0.0, but you'll have scipy 1.5.0 which is incompatible.\u001b[0m\n",
            "\u001b[31mERROR: azureml-opendatasets 1.0.72.1 has requirement pandas<=0.23.4,>=0.21.0, but you'll have pandas 0.25.3 which is incompatible.\u001b[0m\n",
            "\u001b[31mERROR: azureml-opendatasets 1.0.72.1 has requirement scipy<=1.1.0,>=1.0.0, but you'll have scipy 1.5.0 which is incompatible.\u001b[0m\n",
            "\u001b[31mERROR: azureml-automl-core 1.0.72.1 has requirement onnxmltools==1.4.1, but you'll have onnxmltools 1.6.0 which is incompatible.\u001b[0m\n",
            "\u001b[31mERROR: azureml-automl-core 1.0.72.1 has requirement pandas<=0.23.4,>=0.21.0, but you'll have pandas 0.25.3 which is incompatible.\u001b[0m\n",
            "\u001b[31mERROR: azureml-automl-core 1.0.72.1 has requirement scipy<=1.1.0,>=1.0.0, but you'll have scipy 1.5.0 which is incompatible.\u001b[0m\n",
            "\u001b[31mERROR: multiprocess 0.70.10 has requirement dill>=0.3.2, but you'll have dill 0.2.9 which is incompatible.\u001b[0m\n",
            "\u001b[31mERROR: pathos 0.2.6 has requirement dill>=0.3.2, but you'll have dill 0.2.9 which is incompatible.\u001b[0m\n",
            "Installing collected packages: lightgbm, ppft, dill, pox, multiprocess, pathos, pandas, deap, sklearn-deap2, auto-ml\n",
            "  Found existing installation: lightgbm 2.3.0\n",
            "    Uninstalling lightgbm-2.3.0:\n",
            "      Successfully uninstalled lightgbm-2.3.0\n",
            "  Found existing installation: dill 0.3.1.1\n",
            "    Uninstalling dill-0.3.1.1:\n",
            "      Successfully uninstalled dill-0.3.1.1\n",
            "  Found existing installation: pandas 1.0.5\n",
            "    Uninstalling pandas-1.0.5:\n",
            "      Successfully uninstalled pandas-1.0.5\n",
            "Successfully installed auto-ml-2.9.10 deap-1.3.1 dill-0.2.9 lightgbm-2.0.12 multiprocess-0.70.10 pandas-0.25.3 pathos-0.2.6 pox-0.2.8 ppft-1.6.6.2 sklearn-deap2-0.2.2\n"
          ],
          "name": "stdout"
        },
        {
          "output_type": "stream",
          "text": [
            "\u001b[33mWARNING: You are using pip version 19.3.1; however, version 20.1.1 is available.\r\n",
            "You should consider upgrading via the 'pip install --upgrade pip' command.\u001b[0m\r\n"
          ],
          "name": "stdout"
        }
      ]
    },
    {
      "cell_type": "code",
      "metadata": {
        "trusted": true,
        "id": "nQM7-Q7Z0qTt",
        "colab_type": "code",
        "colab": {},
        "outputId": "f3c85f38-6d13-4bbe-fddb-c8f3aae18dab"
      },
      "source": [
        "from auto_ml import Predictor\n",
        "from auto_ml.utils_models import load_ml_model\n",
        "\n",
        "#Since I am using a different ML package have to resplit the train/test data sets. Again test data will be 20% of the whole data set.\n",
        "training, testing = train_test_split(df, test_size=.2)\n",
        "\n",
        "column_descriptions = {\n",
        "    'Sales': 'output',\n",
        "    'Restaurant_Num': 'ignore',\n",
        "    'Day': 'ignore'\n",
        "    \n",
        "}\n",
        "#Training the ML Model with the train data set\n",
        "ml_predictor_reg = Predictor(type_of_estimator='regressor', column_descriptions = column_descriptions)\n",
        "ml_predictor_reg.train(training, ml_for_analytics = True)"
      ],
      "execution_count": null,
      "outputs": [
        {
          "output_type": "stream",
          "text": [
            "Welcome to auto_ml! We're about to go through and make sense of your data using machine learning, and give you a production-ready pipeline to get predictions with.\n",
            "\n",
            "If you have any issues, or new feature ideas, let us know at http://auto.ml\n",
            "You are running on version 2.9.10\n",
            "Now using the model training_params that you passed in:\n",
            "{}\n",
            "After overwriting our defaults with your values, here are the final params that will be used to initialize the model:\n",
            "{'presort': False, 'learning_rate': 0.1, 'warm_start': True}\n",
            "Running basic data cleaning\n",
            "Fitting DataFrameVectorizer\n",
            "Now using the model training_params that you passed in:\n",
            "{}\n",
            "After overwriting our defaults with your values, here are the final params that will be used to initialize the model:\n",
            "{'presort': False, 'learning_rate': 0.1, 'warm_start': True}\n",
            "\n",
            "\n",
            "********************************************************************************************\n",
            "About to fit the pipeline for the model GradientBoostingRegressor to predict Sales\n",
            "Started at:\n",
            "2020-06-23 01:18:35\n",
            "[1] random_holdout_set_from_training_data's score is: -832.675\n",
            "[2] random_holdout_set_from_training_data's score is: -772.929\n",
            "[3] random_holdout_set_from_training_data's score is: -717.034\n",
            "[4] random_holdout_set_from_training_data's score is: -669.889\n",
            "[5] random_holdout_set_from_training_data's score is: -628.362\n",
            "[6] random_holdout_set_from_training_data's score is: -592.134\n",
            "[7] random_holdout_set_from_training_data's score is: -561.065\n",
            "[8] random_holdout_set_from_training_data's score is: -534.122\n",
            "[9] random_holdout_set_from_training_data's score is: -510.344\n",
            "[10] random_holdout_set_from_training_data's score is: -491.132\n",
            "[11] random_holdout_set_from_training_data's score is: -474.438\n",
            "[12] random_holdout_set_from_training_data's score is: -460.308\n",
            "[13] random_holdout_set_from_training_data's score is: -448.163\n",
            "[14] random_holdout_set_from_training_data's score is: -438.463\n",
            "[15] random_holdout_set_from_training_data's score is: -429.306\n",
            "[16] random_holdout_set_from_training_data's score is: -422.441\n",
            "[17] random_holdout_set_from_training_data's score is: -416.384\n",
            "[18] random_holdout_set_from_training_data's score is: -411.566\n",
            "[19] random_holdout_set_from_training_data's score is: -407.397\n",
            "[20] random_holdout_set_from_training_data's score is: -403.753\n",
            "[21] random_holdout_set_from_training_data's score is: -400.828\n",
            "[22] random_holdout_set_from_training_data's score is: -398.557\n",
            "[23] random_holdout_set_from_training_data's score is: -396.678\n",
            "[24] random_holdout_set_from_training_data's score is: -394.595\n",
            "[25] random_holdout_set_from_training_data's score is: -393.445\n",
            "[26] random_holdout_set_from_training_data's score is: -392.429\n",
            "[27] random_holdout_set_from_training_data's score is: -391.474\n",
            "[28] random_holdout_set_from_training_data's score is: -389.981\n",
            "[29] random_holdout_set_from_training_data's score is: -388.71\n",
            "[30] random_holdout_set_from_training_data's score is: -388.193\n",
            "[31] random_holdout_set_from_training_data's score is: -387.055\n",
            "[32] random_holdout_set_from_training_data's score is: -386.565\n",
            "[33] random_holdout_set_from_training_data's score is: -385.731\n",
            "[34] random_holdout_set_from_training_data's score is: -385.402\n",
            "[35] random_holdout_set_from_training_data's score is: -384.81\n",
            "[36] random_holdout_set_from_training_data's score is: -384.764\n",
            "[37] random_holdout_set_from_training_data's score is: -384.099\n",
            "[38] random_holdout_set_from_training_data's score is: -383.822\n",
            "[39] random_holdout_set_from_training_data's score is: -383.53\n",
            "[40] random_holdout_set_from_training_data's score is: -383.584\n",
            "[41] random_holdout_set_from_training_data's score is: -383.561\n",
            "[42] random_holdout_set_from_training_data's score is: -383.214\n",
            "[43] random_holdout_set_from_training_data's score is: -383.193\n",
            "[44] random_holdout_set_from_training_data's score is: -383.044\n",
            "[45] random_holdout_set_from_training_data's score is: -382.971\n",
            "[46] random_holdout_set_from_training_data's score is: -382.937\n",
            "[47] random_holdout_set_from_training_data's score is: -383.033\n",
            "[48] random_holdout_set_from_training_data's score is: -383.083\n",
            "[49] random_holdout_set_from_training_data's score is: -383.202\n",
            "[50] random_holdout_set_from_training_data's score is: -383.096\n",
            "[52] random_holdout_set_from_training_data's score is: -382.887\n",
            "[54] random_holdout_set_from_training_data's score is: -383.003\n",
            "[56] random_holdout_set_from_training_data's score is: -383.437\n",
            "[58] random_holdout_set_from_training_data's score is: -383.244\n",
            "[60] random_holdout_set_from_training_data's score is: -383.19\n",
            "[62] random_holdout_set_from_training_data's score is: -383.485\n",
            "[64] random_holdout_set_from_training_data's score is: -383.499\n",
            "[66] random_holdout_set_from_training_data's score is: -383.538\n",
            "[68] random_holdout_set_from_training_data's score is: -383.755\n",
            "[70] random_holdout_set_from_training_data's score is: -383.654\n",
            "[72] random_holdout_set_from_training_data's score is: -383.952\n",
            "[74] random_holdout_set_from_training_data's score is: -383.963\n",
            "[76] random_holdout_set_from_training_data's score is: -384.311\n",
            "[78] random_holdout_set_from_training_data's score is: -384.386\n",
            "[80] random_holdout_set_from_training_data's score is: -384.355\n",
            "[82] random_holdout_set_from_training_data's score is: -384.431\n",
            "[84] random_holdout_set_from_training_data's score is: -384.609\n",
            "[86] random_holdout_set_from_training_data's score is: -384.689\n",
            "[88] random_holdout_set_from_training_data's score is: -385.123\n",
            "[90] random_holdout_set_from_training_data's score is: -385.372\n",
            "[92] random_holdout_set_from_training_data's score is: -385.445\n",
            "The number of estimators that were the best for this training dataset: 52\n",
            "The best score on the holdout set: -382.8868758161838\n",
            "Finished training the pipeline!\n",
            "Total training time:\n",
            "0:00:15\n",
            "\n",
            "\n",
            "Here are the results from our GradientBoostingRegressor\n",
            "predicting Sales\n",
            "Calculating feature responses, for advanced analytics.\n"
          ],
          "name": "stdout"
        },
        {
          "output_type": "execute_result",
          "data": {
            "text/plain": [
              "<auto_ml.predictor.Predictor at 0x7fba9c28d550>"
            ]
          },
          "metadata": {
            "tags": []
          },
          "execution_count": 61
        }
      ]
    },
    {
      "cell_type": "code",
      "metadata": {
        "trusted": true,
        "id": "1wkKpA9Z0qTw",
        "colab_type": "code",
        "colab": {},
        "outputId": "21255a10-550a-4027-949c-4942c0a61cc3"
      },
      "source": [
        "#Running a test command with the test data:\n",
        "#We can see the R^2 and MAE in below\n",
        "ml_predictor_reg.score(testing, testing.Sales)"
      ],
      "execution_count": null,
      "outputs": [
        {
          "output_type": "stream",
          "text": [
            "None\n",
            "\n",
            "\n",
            "***********************************************\n",
            "Advanced scoring metrics for the trained regression model on this particular dataset:\n",
            "\n",
            "Here is the overall RMSE for these predictions:\n",
            "415.9928414076789\n",
            "\n",
            "Here is the average of the predictions:\n",
            "1854.2492388879718\n",
            "\n",
            "Here is the average actual value on this validation set:\n",
            "1863.0530109164802\n",
            "\n",
            "Here is the median prediction:\n",
            "1701.8760293580901\n",
            "\n",
            "Here is the median actual value:\n",
            "1707.22\n",
            "\n",
            "Here is the mean absolute error:\n",
            "296.69950848145373\n",
            "\n",
            "Here is the median absolute error (robust to outliers):\n",
            "252.22831838406114\n",
            "\n",
            "Here is the explained variance:\n",
            "0.7918320717312366\n",
            "\n",
            "Here is the R-squared value:\n",
            "0.7917387948022406\n",
            "Count of positive differences (prediction > actual):\n",
            "679\n",
            "Count of negative differences:\n",
            "674\n",
            "Average positive difference:\n",
            "286.83573742329327\n",
            "Average negative difference:\n",
            "-306.63645291541627\n",
            "\n",
            "\n",
            "***********************************************\n",
            "\n",
            "\n"
          ],
          "name": "stdout"
        },
        {
          "output_type": "execute_result",
          "data": {
            "text/plain": [
              "-415.9928414076789"
            ]
          },
          "metadata": {
            "tags": []
          },
          "execution_count": 63
        }
      ]
    },
    {
      "cell_type": "code",
      "metadata": {
        "id": "2RNsd3FbTZHp",
        "colab_type": "code",
        "colab": {}
      },
      "source": [
        "#We can see here that the R^2 and MAE were not very adequate for any of the ML Algorithms that were trained.\n",
        "#I switched to ML in R for a more robust training approach"
      ],
      "execution_count": null,
      "outputs": []
    }
  ]
}