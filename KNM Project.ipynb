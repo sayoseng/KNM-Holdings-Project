{
  "cells": [
    {
      "metadata": {
        "trusted": true
      },
      "cell_type": "code",
      "source": "import numpy as np\nimport pandas as pd\nfrom matplotlib import pyplot as plt\n%matplotlib inline\nimport seaborn as sns\nfrom sklearn.model_selection import train_test_split\nfrom sklearn.metrics import mean_squared_error, r2_score",
      "execution_count": 4,
      "outputs": []
    },
    {
      "metadata": {
        "trusted": true
      },
      "cell_type": "code",
      "source": "df = pd.read_csv('KNMData_Final.csv')",
      "execution_count": 5,
      "outputs": []
    },
    {
      "metadata": {
        "trusted": true
      },
      "cell_type": "code",
      "source": "df.head()",
      "execution_count": 30,
      "outputs": [
        {
          "output_type": "execute_result",
          "execution_count": 30,
          "data": {
            "text/html": "<div>\n<style scoped>\n    .dataframe tbody tr th:only-of-type {\n        vertical-align: middle;\n    }\n\n    .dataframe tbody tr th {\n        vertical-align: top;\n    }\n\n    .dataframe thead th {\n        text-align: right;\n    }\n</style>\n<table border=\"1\" class=\"dataframe\">\n  <thead>\n    <tr style=\"text-align: right;\">\n      <th></th>\n      <th>Sales</th>\n      <th>Customer_Count</th>\n    </tr>\n  </thead>\n  <tbody>\n    <tr>\n      <th>0</th>\n      <td>1676.71</td>\n      <td>235</td>\n    </tr>\n    <tr>\n      <th>1</th>\n      <td>0.59</td>\n      <td>1</td>\n    </tr>\n    <tr>\n      <th>2</th>\n      <td>1069.29</td>\n      <td>146</td>\n    </tr>\n    <tr>\n      <th>3</th>\n      <td>903.32</td>\n      <td>109</td>\n    </tr>\n    <tr>\n      <th>4</th>\n      <td>1486.67</td>\n      <td>211</td>\n    </tr>\n  </tbody>\n</table>\n</div>",
            "text/plain": "     Sales  Customer_Count\n0  1676.71             235\n1     0.59               1\n2  1069.29             146\n3   903.32             109\n4  1486.67             211"
          },
          "metadata": {}
        }
      ]
    },
    {
      "metadata": {
        "trusted": true
      },
      "cell_type": "code",
      "source": "df.count()",
      "execution_count": 7,
      "outputs": [
        {
          "output_type": "execute_result",
          "execution_count": 7,
          "data": {
            "text/plain": "Restaurant_Num    6762\nSales             6762\nCustomer_Count    6762\nWeek              6762\nDay               6762\nDay_Friday        6762\nDay_Monday        6762\nDay_Saturday      6762\nDay_Sunday        6762\nDay_Thursday      6762\nDay_Tuesday       6762\nDay_Wednesday     6762\ndtype: int64"
          },
          "metadata": {}
        }
      ]
    },
    {
      "metadata": {
        "trusted": true
      },
      "cell_type": "code",
      "source": "df.isnull().sum()",
      "execution_count": 47,
      "outputs": [
        {
          "output_type": "execute_result",
          "execution_count": 47,
          "data": {
            "text/plain": "Restaurant_Num    0\nSales             0\nCustomer_Count    0\nWeek              0\nDay               0\nDay_Friday        0\nDay_Monday        0\nDay_Saturday      0\nDay_Sunday        0\nDay_Thursday      0\nDay_Tuesday       0\nDay_Wednesday     0\ndtype: int64"
          },
          "metadata": {}
        }
      ]
    },
    {
      "metadata": {
        "trusted": true
      },
      "cell_type": "code",
      "source": "!pip install pandas-profiling",
      "execution_count": 6,
      "outputs": [
        {
          "output_type": "stream",
          "text": "Requirement already satisfied: pandas-profiling in /home/nbuser/anaconda3_501/lib/python3.6/site-packages (2.8.0)\nRequirement already satisfied: missingno>=0.4.2 in /home/nbuser/anaconda3_501/lib/python3.6/site-packages (from pandas-profiling) (0.4.2)\nRequirement already satisfied: astropy>=4.0 in /home/nbuser/anaconda3_501/lib/python3.6/site-packages (from pandas-profiling) (4.0.1.post1)\nRequirement already satisfied: scipy>=1.4.1 in /home/nbuser/anaconda3_501/lib/python3.6/site-packages (from pandas-profiling) (1.5.0)\nRequirement already satisfied: numpy>=1.16.0 in /home/nbuser/anaconda3_501/lib/python3.6/site-packages (from pandas-profiling) (1.16.2)\nRequirement already satisfied: htmlmin>=0.1.12 in /home/nbuser/anaconda3_501/lib/python3.6/site-packages (from pandas-profiling) (0.1.12)\nRequirement already satisfied: confuse>=1.0.0 in /home/nbuser/anaconda3_501/lib/python3.6/site-packages (from pandas-profiling) (1.1.0)\nRequirement already satisfied: matplotlib>=3.2.0 in /home/nbuser/anaconda3_501/lib/python3.6/site-packages (from pandas-profiling) (3.2.2)\nRequirement already satisfied: tqdm>=4.43.0 in /home/nbuser/anaconda3_501/lib/python3.6/site-packages (from pandas-profiling) (4.46.1)\nRequirement already satisfied: visions[type_image_path]==0.4.4 in /home/nbuser/anaconda3_501/lib/python3.6/site-packages (from pandas-profiling) (0.4.4)\nRequirement already satisfied: phik>=0.9.10 in /home/nbuser/anaconda3_501/lib/python3.6/site-packages (from pandas-profiling) (0.10.0)\nRequirement already satisfied: joblib in /home/nbuser/anaconda3_501/lib/python3.6/site-packages (from pandas-profiling) (0.14.0)\nRequirement already satisfied: pandas!=1.0.0,!=1.0.1,!=1.0.2,>=0.25.3 in /home/nbuser/anaconda3_501/lib/python3.6/site-packages (from pandas-profiling) (1.0.5)\nRequirement already satisfied: jinja2>=2.11.1 in /home/nbuser/anaconda3_501/lib/python3.6/site-packages (from pandas-profiling) (2.11.2)\nRequirement already satisfied: tangled-up-in-unicode>=0.0.6 in /home/nbuser/anaconda3_501/lib/python3.6/site-packages (from pandas-profiling) (0.0.6)\nRequirement already satisfied: requests>=2.23.0 in /home/nbuser/anaconda3_501/lib/python3.6/site-packages (from pandas-profiling) (2.24.0)\nRequirement already satisfied: ipywidgets>=7.5.1 in /home/nbuser/anaconda3_501/lib/python3.6/site-packages (from pandas-profiling) (7.5.1)\nRequirement already satisfied: seaborn in /home/nbuser/anaconda3_501/lib/python3.6/site-packages (from missingno>=0.4.2->pandas-profiling) (0.9.0)\nRequirement already satisfied: pyyaml in /home/nbuser/anaconda3_501/lib/python3.6/site-packages (from confuse>=1.0.0->pandas-profiling) (3.13)\nRequirement already satisfied: cycler>=0.10 in /home/nbuser/anaconda3_501/lib/python3.6/site-packages (from matplotlib>=3.2.0->pandas-profiling) (0.10.0)\nRequirement already satisfied: python-dateutil>=2.1 in /home/nbuser/anaconda3_501/lib/python3.6/site-packages (from matplotlib>=3.2.0->pandas-profiling) (2.8.1)\nRequirement already satisfied: kiwisolver>=1.0.1 in /home/nbuser/anaconda3_501/lib/python3.6/site-packages (from matplotlib>=3.2.0->pandas-profiling) (1.0.1)\nRequirement already satisfied: pyparsing!=2.0.4,!=2.1.2,!=2.1.6,>=2.0.1 in /home/nbuser/anaconda3_501/lib/python3.6/site-packages (from matplotlib>=3.2.0->pandas-profiling) (2.3.0)\nRequirement already satisfied: networkx>=2.4 in /home/nbuser/anaconda3_501/lib/python3.6/site-packages (from visions[type_image_path]==0.4.4->pandas-profiling) (2.4)\nRequirement already satisfied: attrs>=19.3.0 in /home/nbuser/anaconda3_501/lib/python3.6/site-packages (from visions[type_image_path]==0.4.4->pandas-profiling) (19.3.0)\nRequirement already satisfied: imagehash; extra == \"type_image_path\" in /home/nbuser/anaconda3_501/lib/python3.6/site-packages (from visions[type_image_path]==0.4.4->pandas-profiling) (4.1.0)\nRequirement already satisfied: Pillow; extra == \"type_image_path\" in /home/nbuser/anaconda3_501/lib/python3.6/site-packages (from visions[type_image_path]==0.4.4->pandas-profiling) (5.3.0)\nRequirement already satisfied: numba>=0.38.1 in /home/nbuser/anaconda3_501/lib/python3.6/site-packages (from phik>=0.9.10->pandas-profiling) (0.40.0)\nRequirement already satisfied: pytz>=2017.2 in /home/nbuser/anaconda3_501/lib/python3.6/site-packages (from pandas!=1.0.0,!=1.0.1,!=1.0.2,>=0.25.3->pandas-profiling) (2019.3)\nRequirement already satisfied: MarkupSafe>=0.23 in /home/nbuser/anaconda3_501/lib/python3.6/site-packages (from jinja2>=2.11.1->pandas-profiling) (1.1.0)\nRequirement already satisfied: idna<3,>=2.5 in /home/nbuser/anaconda3_501/lib/python3.6/site-packages (from requests>=2.23.0->pandas-profiling) (2.7)\nRequirement already satisfied: urllib3!=1.25.0,!=1.25.1,<1.26,>=1.21.1 in /home/nbuser/anaconda3_501/lib/python3.6/site-packages (from requests>=2.23.0->pandas-profiling) (1.23)\nRequirement already satisfied: chardet<4,>=3.0.2 in /home/nbuser/anaconda3_501/lib/python3.6/site-packages (from requests>=2.23.0->pandas-profiling) (3.0.4)\nRequirement already satisfied: certifi>=2017.4.17 in /home/nbuser/anaconda3_501/lib/python3.6/site-packages (from requests>=2.23.0->pandas-profiling) (2018.10.15)\nRequirement already satisfied: nbformat>=4.2.0 in /home/nbuser/anaconda3_501/lib/python3.6/site-packages (from ipywidgets>=7.5.1->pandas-profiling) (4.4.0)\nRequirement already satisfied: ipykernel>=4.5.1 in /home/nbuser/anaconda3_501/lib/python3.6/site-packages (from ipywidgets>=7.5.1->pandas-profiling) (5.1.3)\nRequirement already satisfied: widgetsnbextension~=3.5.0 in /home/nbuser/anaconda3_501/lib/python3.6/site-packages (from ipywidgets>=7.5.1->pandas-profiling) (3.5.1)\nRequirement already satisfied: ipython>=4.0.0; python_version >= \"3.3\" in /home/nbuser/anaconda3_501/lib/python3.6/site-packages (from ipywidgets>=7.5.1->pandas-profiling) (7.1.1)\nRequirement already satisfied: traitlets>=4.3.1 in /home/nbuser/anaconda3_501/lib/python3.6/site-packages (from ipywidgets>=7.5.1->pandas-profiling) (4.3.2)\nRequirement already satisfied: six in /home/nbuser/anaconda3_501/lib/python3.6/site-packages (from cycler>=0.10->matplotlib>=3.2.0->pandas-profiling) (1.11.0)\nRequirement already satisfied: setuptools in /home/nbuser/anaconda3_501/lib/python3.6/site-packages (from kiwisolver>=1.0.1->matplotlib>=3.2.0->pandas-profiling) (41.6.0)\nRequirement already satisfied: decorator>=4.3.0 in /home/nbuser/anaconda3_501/lib/python3.6/site-packages (from networkx>=2.4->visions[type_image_path]==0.4.4->pandas-profiling) (4.3.0)\nRequirement already satisfied: PyWavelets in /home/nbuser/anaconda3_501/lib/python3.6/site-packages (from imagehash; extra == \"type_image_path\"->visions[type_image_path]==0.4.4->pandas-profiling) (1.0.1)\nRequirement already satisfied: llvmlite>=0.25.0dev0 in /home/nbuser/anaconda3_501/lib/python3.6/site-packages (from numba>=0.38.1->phik>=0.9.10->pandas-profiling) (0.25.0)\nRequirement already satisfied: ipython-genutils in /home/nbuser/anaconda3_501/lib/python3.6/site-packages (from nbformat>=4.2.0->ipywidgets>=7.5.1->pandas-profiling) (0.2.0)\nRequirement already satisfied: jupyter-core in /home/nbuser/anaconda3_501/lib/python3.6/site-packages (from nbformat>=4.2.0->ipywidgets>=7.5.1->pandas-profiling) (4.4.0)\nRequirement already satisfied: jsonschema!=2.5.0,>=2.4 in /home/nbuser/anaconda3_501/lib/python3.6/site-packages (from nbformat>=4.2.0->ipywidgets>=7.5.1->pandas-profiling) (2.6.0)\nRequirement already satisfied: tornado>=4.2 in /home/nbuser/anaconda3_501/lib/python3.6/site-packages (from ipykernel>=4.5.1->ipywidgets>=7.5.1->pandas-profiling) (4.5.3)\nRequirement already satisfied: jupyter-client in /home/nbuser/anaconda3_501/lib/python3.6/site-packages (from ipykernel>=4.5.1->ipywidgets>=7.5.1->pandas-profiling) (5.2.3)\nRequirement already satisfied: notebook>=4.4.1 in /home/nbuser/anaconda3_501/lib/python3.6/site-packages (from widgetsnbextension~=3.5.0->ipywidgets>=7.5.1->pandas-profiling) (5.7.2)\nRequirement already satisfied: pexpect; sys_platform != \"win32\" in /home/nbuser/anaconda3_501/lib/python3.6/site-packages (from ipython>=4.0.0; python_version >= \"3.3\"->ipywidgets>=7.5.1->pandas-profiling) (4.6.0)\nRequirement already satisfied: backcall in /home/nbuser/anaconda3_501/lib/python3.6/site-packages (from ipython>=4.0.0; python_version >= \"3.3\"->ipywidgets>=7.5.1->pandas-profiling) (0.1.0)\n",
          "name": "stdout"
        },
        {
          "output_type": "stream",
          "text": "Requirement already satisfied: prompt-toolkit<2.1.0,>=2.0.0 in /home/nbuser/anaconda3_501/lib/python3.6/site-packages (from ipython>=4.0.0; python_version >= \"3.3\"->ipywidgets>=7.5.1->pandas-profiling) (2.0.7)\nRequirement already satisfied: jedi>=0.10 in /home/nbuser/anaconda3_501/lib/python3.6/site-packages (from ipython>=4.0.0; python_version >= \"3.3\"->ipywidgets>=7.5.1->pandas-profiling) (0.13.1)\nRequirement already satisfied: pygments in /home/nbuser/anaconda3_501/lib/python3.6/site-packages (from ipython>=4.0.0; python_version >= \"3.3\"->ipywidgets>=7.5.1->pandas-profiling) (2.2.0)\nRequirement already satisfied: pickleshare in /home/nbuser/anaconda3_501/lib/python3.6/site-packages (from ipython>=4.0.0; python_version >= \"3.3\"->ipywidgets>=7.5.1->pandas-profiling) (0.7.5)\nRequirement already satisfied: pyzmq>=13 in /home/nbuser/anaconda3_501/lib/python3.6/site-packages (from jupyter-client->ipykernel>=4.5.1->ipywidgets>=7.5.1->pandas-profiling) (17.1.2)\nRequirement already satisfied: nbconvert in /home/nbuser/anaconda3_501/lib/python3.6/site-packages (from notebook>=4.4.1->widgetsnbextension~=3.5.0->ipywidgets>=7.5.1->pandas-profiling) (5.6.1)\nRequirement already satisfied: terminado>=0.8.1 in /home/nbuser/anaconda3_501/lib/python3.6/site-packages (from notebook>=4.4.1->widgetsnbextension~=3.5.0->ipywidgets>=7.5.1->pandas-profiling) (0.8.1)\nRequirement already satisfied: Send2Trash in /home/nbuser/anaconda3_501/lib/python3.6/site-packages (from notebook>=4.4.1->widgetsnbextension~=3.5.0->ipywidgets>=7.5.1->pandas-profiling) (1.5.0)\nRequirement already satisfied: prometheus-client in /home/nbuser/anaconda3_501/lib/python3.6/site-packages (from notebook>=4.4.1->widgetsnbextension~=3.5.0->ipywidgets>=7.5.1->pandas-profiling) (0.4.2)\nRequirement already satisfied: ptyprocess>=0.5 in /home/nbuser/anaconda3_501/lib/python3.6/site-packages (from pexpect; sys_platform != \"win32\"->ipython>=4.0.0; python_version >= \"3.3\"->ipywidgets>=7.5.1->pandas-profiling) (0.6.0)\nRequirement already satisfied: wcwidth in /home/nbuser/anaconda3_501/lib/python3.6/site-packages (from prompt-toolkit<2.1.0,>=2.0.0->ipython>=4.0.0; python_version >= \"3.3\"->ipywidgets>=7.5.1->pandas-profiling) (0.1.7)\nRequirement already satisfied: parso>=0.3.0 in /home/nbuser/anaconda3_501/lib/python3.6/site-packages (from jedi>=0.10->ipython>=4.0.0; python_version >= \"3.3\"->ipywidgets>=7.5.1->pandas-profiling) (0.3.1)\nRequirement already satisfied: entrypoints>=0.2.2 in /home/nbuser/anaconda3_501/lib/python3.6/site-packages (from nbconvert->notebook>=4.4.1->widgetsnbextension~=3.5.0->ipywidgets>=7.5.1->pandas-profiling) (0.2.3)\nRequirement already satisfied: pandocfilters>=1.4.1 in /home/nbuser/anaconda3_501/lib/python3.6/site-packages (from nbconvert->notebook>=4.4.1->widgetsnbextension~=3.5.0->ipywidgets>=7.5.1->pandas-profiling) (1.4.2)\nRequirement already satisfied: defusedxml in /home/nbuser/anaconda3_501/lib/python3.6/site-packages (from nbconvert->notebook>=4.4.1->widgetsnbextension~=3.5.0->ipywidgets>=7.5.1->pandas-profiling) (0.5.0)\nRequirement already satisfied: bleach in /home/nbuser/anaconda3_501/lib/python3.6/site-packages (from nbconvert->notebook>=4.4.1->widgetsnbextension~=3.5.0->ipywidgets>=7.5.1->pandas-profiling) (1.5.0)\nRequirement already satisfied: mistune<2,>=0.8.1 in /home/nbuser/anaconda3_501/lib/python3.6/site-packages (from nbconvert->notebook>=4.4.1->widgetsnbextension~=3.5.0->ipywidgets>=7.5.1->pandas-profiling) (0.8.4)\nRequirement already satisfied: testpath in /home/nbuser/anaconda3_501/lib/python3.6/site-packages (from nbconvert->notebook>=4.4.1->widgetsnbextension~=3.5.0->ipywidgets>=7.5.1->pandas-profiling) (0.4.2)\nRequirement already satisfied: html5lib!=0.9999,!=0.99999,<0.99999999,>=0.999 in /home/nbuser/anaconda3_501/lib/python3.6/site-packages (from bleach->nbconvert->notebook>=4.4.1->widgetsnbextension~=3.5.0->ipywidgets>=7.5.1->pandas-profiling) (0.9999999)\n\u001b[33mWARNING: You are using pip version 19.3.1; however, version 20.1.1 is available.\nYou should consider upgrading via the 'pip install --upgrade pip' command.\u001b[0m\n",
          "name": "stdout"
        }
      ]
    },
    {
      "metadata": {
        "trusted": true
      },
      "cell_type": "code",
      "source": "from pandas_profiling import ProfileReport",
      "execution_count": 1,
      "outputs": []
    },
    {
      "metadata": {
        "trusted": true
      },
      "cell_type": "code",
      "source": " profile = ProfileReport(df, title='Pandas Profiling Report')\n profile.to_file(output_file=\"Detailed Exploratory Data Analysis Report1.html\")",
      "execution_count": 6,
      "outputs": [
        {
          "output_type": "display_data",
          "data": {
            "application/vnd.jupyter.widget-view+json": {
              "model_id": "53bb3cfe10b0477f8ed00474ec3c0b42",
              "version_minor": 0,
              "version_major": 2
            },
            "text/plain": "HBox(children=(FloatProgress(value=0.0, description='Summarize dataset', max=26.0, style=ProgressStyle(descrip…"
          },
          "metadata": {}
        },
        {
          "output_type": "stream",
          "text": "\n",
          "name": "stdout"
        },
        {
          "output_type": "display_data",
          "data": {
            "application/vnd.jupyter.widget-view+json": {
              "model_id": "f464fdb2a01a450480cff3c72357b056",
              "version_minor": 0,
              "version_major": 2
            },
            "text/plain": "HBox(children=(FloatProgress(value=0.0, description='Generate report structure', max=1.0, style=ProgressStyle(…"
          },
          "metadata": {}
        },
        {
          "output_type": "stream",
          "text": "\n",
          "name": "stdout"
        },
        {
          "output_type": "display_data",
          "data": {
            "application/vnd.jupyter.widget-view+json": {
              "model_id": "aad24dd04d7244878336ea824c4d4b05",
              "version_minor": 0,
              "version_major": 2
            },
            "text/plain": "HBox(children=(FloatProgress(value=0.0, description='Render HTML', max=1.0, style=ProgressStyle(description_wi…"
          },
          "metadata": {}
        },
        {
          "output_type": "stream",
          "text": "\n",
          "name": "stdout"
        },
        {
          "output_type": "display_data",
          "data": {
            "application/vnd.jupyter.widget-view+json": {
              "model_id": "2c9ab72071c04fb7b50b5acfc0b7181a",
              "version_minor": 0,
              "version_major": 2
            },
            "text/plain": "HBox(children=(FloatProgress(value=0.0, description='Export report to file', max=1.0, style=ProgressStyle(desc…"
          },
          "metadata": {}
        },
        {
          "output_type": "stream",
          "text": "\n",
          "name": "stdout"
        }
      ]
    },
    {
      "metadata": {
        "trusted": true
      },
      "cell_type": "code",
      "source": "list(df.columns)",
      "execution_count": 38,
      "outputs": [
        {
          "output_type": "execute_result",
          "execution_count": 38,
          "data": {
            "text/plain": "['Restaurant_Num', 'Sales', 'Customer_Count', 'Week', 'Day']"
          },
          "metadata": {}
        }
      ]
    },
    {
      "metadata": {
        "trusted": true
      },
      "cell_type": "code",
      "source": "df1 = df.drop(['Restaurant_Num'], axis=1)\nlist(df1.columns)",
      "execution_count": 50,
      "outputs": [
        {
          "output_type": "execute_result",
          "execution_count": 50,
          "data": {
            "text/plain": "['Sales',\n 'Customer_Count',\n 'Week',\n 'Day',\n 'Day_Friday',\n 'Day_Monday',\n 'Day_Saturday',\n 'Day_Sunday',\n 'Day_Thursday',\n 'Day_Tuesday',\n 'Day_Wednesday']"
          },
          "metadata": {}
        }
      ]
    },
    {
      "metadata": {
        "trusted": true
      },
      "cell_type": "code",
      "source": "df1.isnull().sum()",
      "execution_count": 35,
      "outputs": [
        {
          "output_type": "execute_result",
          "execution_count": 35,
          "data": {
            "text/plain": "Sales             0\nCustomer_Count    0\nWeek              0\nDay               0\ndtype: int64"
          },
          "metadata": {}
        }
      ]
    },
    {
      "metadata": {
        "trusted": true
      },
      "cell_type": "code",
      "source": "df[['Sales','Customer_Count']].corr()",
      "execution_count": 37,
      "outputs": [
        {
          "output_type": "execute_result",
          "execution_count": 37,
          "data": {
            "text/html": "<div>\n<style scoped>\n    .dataframe tbody tr th:only-of-type {\n        vertical-align: middle;\n    }\n\n    .dataframe tbody tr th {\n        vertical-align: top;\n    }\n\n    .dataframe thead th {\n        text-align: right;\n    }\n</style>\n<table border=\"1\" class=\"dataframe\">\n  <thead>\n    <tr style=\"text-align: right;\">\n      <th></th>\n      <th>Sales</th>\n      <th>Customer_Count</th>\n    </tr>\n  </thead>\n  <tbody>\n    <tr>\n      <th>Sales</th>\n      <td>1.000000</td>\n      <td>0.885644</td>\n    </tr>\n    <tr>\n      <th>Customer_Count</th>\n      <td>0.885644</td>\n      <td>1.000000</td>\n    </tr>\n  </tbody>\n</table>\n</div>",
            "text/plain": "                   Sales  Customer_Count\nSales           1.000000        0.885644\nCustomer_Count  0.885644        1.000000"
          },
          "metadata": {}
        }
      ]
    },
    {
      "metadata": {
        "trusted": true
      },
      "cell_type": "code",
      "source": "data = df1.drop('Day',axis=1)\nlist(data.columns)",
      "execution_count": 51,
      "outputs": [
        {
          "output_type": "execute_result",
          "execution_count": 51,
          "data": {
            "text/plain": "['Sales',\n 'Customer_Count',\n 'Week',\n 'Day_Friday',\n 'Day_Monday',\n 'Day_Saturday',\n 'Day_Sunday',\n 'Day_Thursday',\n 'Day_Tuesday',\n 'Day_Wednesday']"
          },
          "metadata": {}
        }
      ]
    },
    {
      "metadata": {
        "trusted": true
      },
      "cell_type": "code",
      "source": "y=data.Sales\nX = data.drop('Sales',axis=1)\nX_train, X_test, y_train, y_test = train_test_split(X , y, test_size=.2, random_state=123)\n\nfrom sklearn.linear_model import LinearRegression\n\nregressor = LinearRegression()\nclf_reg = regressor.fit(X_train,y_train)\n\ny_pred = clf_reg.predict(X_test)",
      "execution_count": 52,
      "outputs": []
    },
    {
      "metadata": {
        "trusted": true
      },
      "cell_type": "code",
      "source": "print(r2_score(y_test, y_pred))\nprint(mean_squared_error(y_test, y_pred))",
      "execution_count": 53,
      "outputs": [
        {
          "output_type": "stream",
          "text": "0.8164381741010156\n152015.31286656545\n",
          "name": "stdout"
        }
      ]
    },
    {
      "metadata": {
        "trusted": true
      },
      "cell_type": "code",
      "source": "from sklearn.ensemble import RandomForestRegressor\nregressor = RandomForestRegressor()\nclf_rf = regressor.fit(X_train, y_train)\ny_pred = clf_rf.predict(X_test)",
      "execution_count": 55,
      "outputs": [
        {
          "output_type": "stream",
          "text": "/home/nbuser/anaconda3_501/lib/python3.6/site-packages/sklearn/ensemble/forest.py:246: FutureWarning: The default value of n_estimators will change from 10 in version 0.20 to 100 in 0.22.\n  \"10 in version 0.20 to 100 in 0.22.\", FutureWarning)\n",
          "name": "stderr"
        }
      ]
    },
    {
      "metadata": {
        "trusted": true
      },
      "cell_type": "code",
      "source": "print(r2_score(y_test, y_pred))\nprint(mean_squared_error(y_test, y_pred))",
      "execution_count": 56,
      "outputs": [
        {
          "output_type": "stream",
          "text": "0.7305807983330788\n223117.4375885521\n",
          "name": "stdout"
        }
      ]
    },
    {
      "metadata": {
        "trusted": true
      },
      "cell_type": "code",
      "source": "!pip install auto_ml",
      "execution_count": 57,
      "outputs": [
        {
          "output_type": "stream",
          "text": "Collecting auto_ml\n\u001b[?25l  Downloading https://files.pythonhosted.org/packages/9f/9f/d6ac0dfa87532b321822bbbdd93ac5d0f925f0ecdf834556021ad76fd312/auto_ml-2.9.10-py2.py3-none-any.whl (71kB)\n\u001b[K     |████████████████████████████████| 71kB 243kB/s eta 0:00:01\n\u001b[?25hRequirement already satisfied: python-dateutil<3.0,>=2.6.1 in /home/nbuser/anaconda3_501/lib/python3.6/site-packages (from auto_ml) (2.8.1)\nCollecting lightgbm<2.1,>=2.0.11\n\u001b[?25l  Downloading https://files.pythonhosted.org/packages/47/4a/c1048a8bc32ae7b8e23bce956289683f8a09033af7cd6af0195d64b7620e/lightgbm-2.0.12-py2.py3-none-manylinux1_x86_64.whl (627kB)\n\u001b[K     |████████████████████████████████| 634kB 2.3MB/s eta 0:00:01\n\u001b[?25hCollecting pathos<0.3.0,>=0.2.1\n\u001b[?25l  Downloading https://files.pythonhosted.org/packages/be/ea/b2cf3a6561fc5deb64de8ae0af5e3e4e2db03ca588cb7415efce4a8de26e/pathos-0.2.6.zip (219kB)\n\u001b[K     |████████████████████████████████| 225kB 5.5MB/s eta 0:00:01\n\u001b[?25hCollecting pandas<1.0,>=0.18.0\n\u001b[?25l  Downloading https://files.pythonhosted.org/packages/52/3f/f6a428599e0d4497e1595030965b5ba455fd8ade6e977e3c819973c4b41d/pandas-0.25.3-cp36-cp36m-manylinux1_x86_64.whl (10.4MB)\n\u001b[K     |████████████████████████████████| 10.4MB 109kB/s eta 0:00:01    |████▎                           | 1.4MB 3.1MB/s eta 0:00:03     |██████                          | 2.0MB 3.1MB/s eta 0:00:03     |███████▌                        | 2.4MB 3.1MB/s eta 0:00:03     |████████████████▌               | 5.4MB 3.1MB/s eta 0:00:02     |████████████████████▌           | 6.7MB 3.1MB/s eta 0:00:02\n\u001b[?25hRequirement already satisfied: scipy<2.0,>=0.14.0 in /home/nbuser/anaconda3_501/lib/python3.6/site-packages (from auto_ml) (1.5.0)\nRequirement already satisfied: scikit-learn<1.0,>=0.18.1 in /home/nbuser/anaconda3_501/lib/python3.6/site-packages (from auto_ml) (0.20.3)\nRequirement already satisfied: tabulate<1.0,>=0.7.5 in /home/nbuser/anaconda3_501/lib/python3.6/site-packages (from auto_ml) (0.8.2)\nRequirement already satisfied: numpy<2.0,>=1.11.0 in /home/nbuser/anaconda3_501/lib/python3.6/site-packages (from auto_ml) (1.16.2)\nCollecting sklearn-deap2<0.3,>=0.2.1\n  Downloading https://files.pythonhosted.org/packages/0b/e3/149243bf8574c6c8aa0736bd61946c47717a635e988e4a990d36405f2cca/sklearn-deap2-0.2.2.tar.gz\nRequirement already satisfied: h5py<3.0,>=2.7.0 in /home/nbuser/anaconda3_501/lib/python3.6/site-packages (from auto_ml) (2.8.0)\nCollecting dill<0.3,>=0.2.5\n\u001b[?25l  Downloading https://files.pythonhosted.org/packages/fe/42/bfe2e0857bc284cbe6a011d93f2a9ad58a22cb894461b199ae72cfef0f29/dill-0.2.9.tar.gz (150kB)\n\u001b[K     |████████████████████████████████| 153kB 3.6MB/s eta 0:00:01\n\u001b[?25hRequirement already satisfied: six>=1.5 in /home/nbuser/anaconda3_501/lib/python3.6/site-packages (from python-dateutil<3.0,>=2.6.1->auto_ml) (1.11.0)\nCollecting ppft>=1.6.6.2\n\u001b[?25l  Downloading https://files.pythonhosted.org/packages/2b/fb/fa21f6e9aedc4823448473ed96e8eab64af1cb248c18165f045a90e1c6b4/ppft-1.6.6.2.zip (106kB)\n\u001b[K     |████████████████████████████████| 112kB 3.6MB/s eta 0:00:01\n\u001b[?25hCollecting pox>=0.2.8\n\u001b[?25l  Downloading https://files.pythonhosted.org/packages/1a/0c/ec447fb0ed88bc1c09bf0dadf00e40ea05fda17e841d15bb351a52d9e192/pox-0.2.8.zip (128kB)\n\u001b[K     |████████████████████████████████| 133kB 2.4MB/s eta 0:00:01\n\u001b[?25hCollecting multiprocess>=0.70.10\n\u001b[?25l  Downloading https://files.pythonhosted.org/packages/1a/4e/4591c45b85fbcbcc3de9554e20e079e0006c4332e0a780ed0883f2b07965/multiprocess-0.70.10.zip (2.4MB)\n\u001b[K     |████████████████████████████████| 2.4MB 281kB/s eta 0:00:01\n\u001b[?25hRequirement already satisfied: pytz>=2017.2 in /home/nbuser/anaconda3_501/lib/python3.6/site-packages (from pandas<1.0,>=0.18.0->auto_ml) (2019.3)\nCollecting deap>=1.0.2\n\u001b[?25l  Downloading https://files.pythonhosted.org/packages/0a/eb/2bd0a32e3ce757fb26264765abbaedd6d4d3640d90219a513aeabd08ee2b/deap-1.3.1-cp36-cp36m-manylinux2010_x86_64.whl (157kB)\n\u001b[K     |████████████████████████████████| 163kB 3.4MB/s eta 0:00:01\n\u001b[?25hBuilding wheels for collected packages: pathos, sklearn-deap2, dill, ppft, pox, multiprocess\n  Building wheel for pathos (setup.py) ... \u001b[?25ldone\n\u001b[?25h  Created wheel for pathos: filename=pathos-0.2.6-cp36-none-any.whl size=81439 sha256=121b7df97d55af70474004b339617b4929db7b83dd8b5a0f76a923b8b1e018d9\n  Stored in directory: /home/nbuser/.cache/pip/wheels/3a/e8/c8/04cdd0c4bc6fbce35f642fc004244228916daae74bb0f482da\n  Building wheel for sklearn-deap2 (setup.py) ... \u001b[?25ldone\n\u001b[?25h  Created wheel for sklearn-deap2: filename=sklearn_deap2-0.2.2-cp36-none-any.whl size=9958 sha256=086c9f4ebbcb9afa0948e60f0bea9e1f5f709b95139927fee8d46be5174d0dea\n  Stored in directory: /home/nbuser/.cache/pip/wheels/bf/3f/41/62181df83b6d15a4054d34227ef40a96d6e4c56ff6773bf9f8\n  Building wheel for dill (setup.py) ... \u001b[?25ldone\n\u001b[?25h  Created wheel for dill: filename=dill-0.2.9-cp36-none-any.whl size=79710 sha256=a1f99f90a983a8e0e4ad0d64119e3565d0f08585ecd837d79aea276639d86770\n  Stored in directory: /home/nbuser/.cache/pip/wheels/5b/d7/0f/e58eae695403de585269f4e4a94e0cd6ca60ec0c202936fa4a\n  Building wheel for ppft (setup.py) ... \u001b[?25ldone\n\u001b[?25h  Created wheel for ppft: filename=ppft-1.6.6.2-cp36-none-any.whl size=65078 sha256=172120b6f79ae2d70cf25fa0d31c9dd01a43ad25703a26754c62825e99d264bf\n  Stored in directory: /home/nbuser/.cache/pip/wheels/db/d2/2d/0ee21ede61786bb13247dbc69079373fd500c2bb0481913084\n  Building wheel for pox (setup.py) ... \u001b[?25ldone\n\u001b[?25h  Created wheel for pox: filename=pox-0.2.8-cp36-none-any.whl size=30363 sha256=fae76c5cca2bd55d62602a7053fc580988e278b4ad4678e771139c7c811dadcb\n  Stored in directory: /home/nbuser/.cache/pip/wheels/39/ed/ce/a93103746b327e18bffaeb99ba0d57a88b392f31d719cea700\n  Building wheel for multiprocess (setup.py) ... \u001b[?25ldone\n\u001b[?25h  Created wheel for multiprocess: filename=multiprocess-0.70.10-cp36-none-any.whl size=101017 sha256=3aa0610ce7465fc7a9a3cf0b70520ef895786f85ef8da1621c5bb52431b7b292\n  Stored in directory: /home/nbuser/.cache/pip/wheels/c0/97/16/5d5fc187439a97f583ff4bdafc1ae4490e1d75dd350f2c0dfa\nSuccessfully built pathos sklearn-deap2 dill ppft pox multiprocess\n\u001b[31mERROR: phik 0.10.0 has requirement joblib>=0.14.1, but you'll have joblib 0.14.0 which is incompatible.\u001b[0m\n\u001b[31mERROR: azureml-train-automl 1.0.72 has requirement onnxmltools==1.4.1, but you'll have onnxmltools 1.6.0 which is incompatible.\u001b[0m\n\u001b[31mERROR: azureml-train-automl 1.0.72 has requirement pandas<=0.23.4,>=0.21.0, but you'll have pandas 0.25.3 which is incompatible.\u001b[0m\n\u001b[31mERROR: azureml-train-automl 1.0.72 has requirement scipy<=1.1.0,>=1.0.0, but you'll have scipy 1.5.0 which is incompatible.\u001b[0m\n\u001b[31mERROR: azureml-opendatasets 1.0.72.1 has requirement pandas<=0.23.4,>=0.21.0, but you'll have pandas 0.25.3 which is incompatible.\u001b[0m\n\u001b[31mERROR: azureml-opendatasets 1.0.72.1 has requirement scipy<=1.1.0,>=1.0.0, but you'll have scipy 1.5.0 which is incompatible.\u001b[0m\n\u001b[31mERROR: azureml-automl-core 1.0.72.1 has requirement onnxmltools==1.4.1, but you'll have onnxmltools 1.6.0 which is incompatible.\u001b[0m\n\u001b[31mERROR: azureml-automl-core 1.0.72.1 has requirement pandas<=0.23.4,>=0.21.0, but you'll have pandas 0.25.3 which is incompatible.\u001b[0m\n\u001b[31mERROR: azureml-automl-core 1.0.72.1 has requirement scipy<=1.1.0,>=1.0.0, but you'll have scipy 1.5.0 which is incompatible.\u001b[0m\n\u001b[31mERROR: multiprocess 0.70.10 has requirement dill>=0.3.2, but you'll have dill 0.2.9 which is incompatible.\u001b[0m\n\u001b[31mERROR: pathos 0.2.6 has requirement dill>=0.3.2, but you'll have dill 0.2.9 which is incompatible.\u001b[0m\nInstalling collected packages: lightgbm, ppft, dill, pox, multiprocess, pathos, pandas, deap, sklearn-deap2, auto-ml\n  Found existing installation: lightgbm 2.3.0\n    Uninstalling lightgbm-2.3.0:\n      Successfully uninstalled lightgbm-2.3.0\n  Found existing installation: dill 0.3.1.1\n    Uninstalling dill-0.3.1.1:\n      Successfully uninstalled dill-0.3.1.1\n  Found existing installation: pandas 1.0.5\n    Uninstalling pandas-1.0.5:\n      Successfully uninstalled pandas-1.0.5\nSuccessfully installed auto-ml-2.9.10 deap-1.3.1 dill-0.2.9 lightgbm-2.0.12 multiprocess-0.70.10 pandas-0.25.3 pathos-0.2.6 pox-0.2.8 ppft-1.6.6.2 sklearn-deap2-0.2.2\n",
          "name": "stdout"
        },
        {
          "output_type": "stream",
          "text": "\u001b[33mWARNING: You are using pip version 19.3.1; however, version 20.1.1 is available.\r\nYou should consider upgrading via the 'pip install --upgrade pip' command.\u001b[0m\r\n",
          "name": "stdout"
        }
      ]
    },
    {
      "metadata": {
        "trusted": true
      },
      "cell_type": "code",
      "source": "df.head()",
      "execution_count": 58,
      "outputs": [
        {
          "output_type": "execute_result",
          "execution_count": 58,
          "data": {
            "text/html": "<div>\n<style scoped>\n    .dataframe tbody tr th:only-of-type {\n        vertical-align: middle;\n    }\n\n    .dataframe tbody tr th {\n        vertical-align: top;\n    }\n\n    .dataframe thead th {\n        text-align: right;\n    }\n</style>\n<table border=\"1\" class=\"dataframe\">\n  <thead>\n    <tr style=\"text-align: right;\">\n      <th></th>\n      <th>Restaurant_Num</th>\n      <th>Sales</th>\n      <th>Customer_Count</th>\n      <th>Week</th>\n      <th>Day</th>\n      <th>Day_Friday</th>\n      <th>Day_Monday</th>\n      <th>Day_Saturday</th>\n      <th>Day_Sunday</th>\n      <th>Day_Thursday</th>\n      <th>Day_Tuesday</th>\n      <th>Day_Wednesday</th>\n    </tr>\n  </thead>\n  <tbody>\n    <tr>\n      <th>0</th>\n      <td>254</td>\n      <td>1676.71</td>\n      <td>235</td>\n      <td>1</td>\n      <td>Friday</td>\n      <td>1</td>\n      <td>0</td>\n      <td>0</td>\n      <td>0</td>\n      <td>0</td>\n      <td>0</td>\n      <td>0</td>\n    </tr>\n    <tr>\n      <th>1</th>\n      <td>254</td>\n      <td>0.59</td>\n      <td>1</td>\n      <td>1</td>\n      <td>Monday</td>\n      <td>0</td>\n      <td>1</td>\n      <td>0</td>\n      <td>0</td>\n      <td>0</td>\n      <td>0</td>\n      <td>0</td>\n    </tr>\n    <tr>\n      <th>2</th>\n      <td>254</td>\n      <td>1069.29</td>\n      <td>146</td>\n      <td>1</td>\n      <td>Saturday</td>\n      <td>0</td>\n      <td>0</td>\n      <td>1</td>\n      <td>0</td>\n      <td>0</td>\n      <td>0</td>\n      <td>0</td>\n    </tr>\n    <tr>\n      <th>3</th>\n      <td>254</td>\n      <td>903.32</td>\n      <td>109</td>\n      <td>1</td>\n      <td>Sunday</td>\n      <td>0</td>\n      <td>0</td>\n      <td>0</td>\n      <td>1</td>\n      <td>0</td>\n      <td>0</td>\n      <td>0</td>\n    </tr>\n    <tr>\n      <th>4</th>\n      <td>254</td>\n      <td>1486.67</td>\n      <td>211</td>\n      <td>1</td>\n      <td>Thursday</td>\n      <td>0</td>\n      <td>0</td>\n      <td>0</td>\n      <td>0</td>\n      <td>1</td>\n      <td>0</td>\n      <td>0</td>\n    </tr>\n  </tbody>\n</table>\n</div>",
            "text/plain": "   Restaurant_Num    Sales  Customer_Count  Week       Day  Day_Friday  \\\n0             254  1676.71             235     1    Friday           1   \n1             254     0.59               1     1    Monday           0   \n2             254  1069.29             146     1  Saturday           0   \n3             254   903.32             109     1    Sunday           0   \n4             254  1486.67             211     1  Thursday           0   \n\n   Day_Monday  Day_Saturday  Day_Sunday  Day_Thursday  Day_Tuesday  \\\n0           0             0           0             0            0   \n1           1             0           0             0            0   \n2           0             1           0             0            0   \n3           0             0           1             0            0   \n4           0             0           0             1            0   \n\n   Day_Wednesday  \n0              0  \n1              0  \n2              0  \n3              0  \n4              0  "
          },
          "metadata": {}
        }
      ]
    },
    {
      "metadata": {
        "trusted": true
      },
      "cell_type": "code",
      "source": "from auto_ml import Predictor\nfrom auto_ml.utils_models import load_ml_model\n\ntraining, testing = train_test_split(df, test_size=.2)\n\ncolumn_descriptions = {\n    'Sales': 'output',\n    'Restaurant_Num': 'ignore',\n    'Day': 'ignore'\n    \n}\n\nml_predictor_reg = Predictor(type_of_estimator='regressor', column_descriptions = column_descriptions)\nml_predictor_reg.train(training, ml_for_analytics = True)",
      "execution_count": 61,
      "outputs": [
        {
          "output_type": "stream",
          "text": "Welcome to auto_ml! We're about to go through and make sense of your data using machine learning, and give you a production-ready pipeline to get predictions with.\n\nIf you have any issues, or new feature ideas, let us know at http://auto.ml\nYou are running on version 2.9.10\nNow using the model training_params that you passed in:\n{}\nAfter overwriting our defaults with your values, here are the final params that will be used to initialize the model:\n{'presort': False, 'learning_rate': 0.1, 'warm_start': True}\nRunning basic data cleaning\nFitting DataFrameVectorizer\nNow using the model training_params that you passed in:\n{}\nAfter overwriting our defaults with your values, here are the final params that will be used to initialize the model:\n{'presort': False, 'learning_rate': 0.1, 'warm_start': True}\n\n\n********************************************************************************************\nAbout to fit the pipeline for the model GradientBoostingRegressor to predict Sales\nStarted at:\n2020-06-23 01:18:35\n[1] random_holdout_set_from_training_data's score is: -832.675\n[2] random_holdout_set_from_training_data's score is: -772.929\n[3] random_holdout_set_from_training_data's score is: -717.034\n[4] random_holdout_set_from_training_data's score is: -669.889\n[5] random_holdout_set_from_training_data's score is: -628.362\n[6] random_holdout_set_from_training_data's score is: -592.134\n[7] random_holdout_set_from_training_data's score is: -561.065\n[8] random_holdout_set_from_training_data's score is: -534.122\n[9] random_holdout_set_from_training_data's score is: -510.344\n[10] random_holdout_set_from_training_data's score is: -491.132\n[11] random_holdout_set_from_training_data's score is: -474.438\n[12] random_holdout_set_from_training_data's score is: -460.308\n[13] random_holdout_set_from_training_data's score is: -448.163\n[14] random_holdout_set_from_training_data's score is: -438.463\n[15] random_holdout_set_from_training_data's score is: -429.306\n[16] random_holdout_set_from_training_data's score is: -422.441\n[17] random_holdout_set_from_training_data's score is: -416.384\n[18] random_holdout_set_from_training_data's score is: -411.566\n[19] random_holdout_set_from_training_data's score is: -407.397\n[20] random_holdout_set_from_training_data's score is: -403.753\n[21] random_holdout_set_from_training_data's score is: -400.828\n[22] random_holdout_set_from_training_data's score is: -398.557\n[23] random_holdout_set_from_training_data's score is: -396.678\n[24] random_holdout_set_from_training_data's score is: -394.595\n[25] random_holdout_set_from_training_data's score is: -393.445\n[26] random_holdout_set_from_training_data's score is: -392.429\n[27] random_holdout_set_from_training_data's score is: -391.474\n[28] random_holdout_set_from_training_data's score is: -389.981\n[29] random_holdout_set_from_training_data's score is: -388.71\n[30] random_holdout_set_from_training_data's score is: -388.193\n[31] random_holdout_set_from_training_data's score is: -387.055\n[32] random_holdout_set_from_training_data's score is: -386.565\n[33] random_holdout_set_from_training_data's score is: -385.731\n[34] random_holdout_set_from_training_data's score is: -385.402\n[35] random_holdout_set_from_training_data's score is: -384.81\n[36] random_holdout_set_from_training_data's score is: -384.764\n[37] random_holdout_set_from_training_data's score is: -384.099\n[38] random_holdout_set_from_training_data's score is: -383.822\n[39] random_holdout_set_from_training_data's score is: -383.53\n[40] random_holdout_set_from_training_data's score is: -383.584\n[41] random_holdout_set_from_training_data's score is: -383.561\n[42] random_holdout_set_from_training_data's score is: -383.214\n[43] random_holdout_set_from_training_data's score is: -383.193\n[44] random_holdout_set_from_training_data's score is: -383.044\n[45] random_holdout_set_from_training_data's score is: -382.971\n[46] random_holdout_set_from_training_data's score is: -382.937\n[47] random_holdout_set_from_training_data's score is: -383.033\n[48] random_holdout_set_from_training_data's score is: -383.083\n[49] random_holdout_set_from_training_data's score is: -383.202\n[50] random_holdout_set_from_training_data's score is: -383.096\n[52] random_holdout_set_from_training_data's score is: -382.887\n[54] random_holdout_set_from_training_data's score is: -383.003\n[56] random_holdout_set_from_training_data's score is: -383.437\n[58] random_holdout_set_from_training_data's score is: -383.244\n[60] random_holdout_set_from_training_data's score is: -383.19\n[62] random_holdout_set_from_training_data's score is: -383.485\n[64] random_holdout_set_from_training_data's score is: -383.499\n[66] random_holdout_set_from_training_data's score is: -383.538\n[68] random_holdout_set_from_training_data's score is: -383.755\n[70] random_holdout_set_from_training_data's score is: -383.654\n[72] random_holdout_set_from_training_data's score is: -383.952\n[74] random_holdout_set_from_training_data's score is: -383.963\n[76] random_holdout_set_from_training_data's score is: -384.311\n[78] random_holdout_set_from_training_data's score is: -384.386\n[80] random_holdout_set_from_training_data's score is: -384.355\n[82] random_holdout_set_from_training_data's score is: -384.431\n[84] random_holdout_set_from_training_data's score is: -384.609\n[86] random_holdout_set_from_training_data's score is: -384.689\n[88] random_holdout_set_from_training_data's score is: -385.123\n[90] random_holdout_set_from_training_data's score is: -385.372\n[92] random_holdout_set_from_training_data's score is: -385.445\nThe number of estimators that were the best for this training dataset: 52\nThe best score on the holdout set: -382.8868758161838\nFinished training the pipeline!\nTotal training time:\n0:00:15\n\n\nHere are the results from our GradientBoostingRegressor\npredicting Sales\nCalculating feature responses, for advanced analytics.\n",
          "name": "stdout"
        },
        {
          "output_type": "execute_result",
          "execution_count": 61,
          "data": {
            "text/plain": "<auto_ml.predictor.Predictor at 0x7fba9c28d550>"
          },
          "metadata": {}
        }
      ]
    },
    {
      "metadata": {
        "trusted": true
      },
      "cell_type": "code",
      "source": "ml_predictor_reg.score(testing, testing.Sales)",
      "execution_count": 63,
      "outputs": [
        {
          "output_type": "stream",
          "text": "None\n\n\n***********************************************\nAdvanced scoring metrics for the trained regression model on this particular dataset:\n\nHere is the overall RMSE for these predictions:\n415.9928414076789\n\nHere is the average of the predictions:\n1854.2492388879718\n\nHere is the average actual value on this validation set:\n1863.0530109164802\n\nHere is the median prediction:\n1701.8760293580901\n\nHere is the median actual value:\n1707.22\n\nHere is the mean absolute error:\n296.69950848145373\n\nHere is the median absolute error (robust to outliers):\n252.22831838406114\n\nHere is the explained variance:\n0.7918320717312366\n\nHere is the R-squared value:\n0.7917387948022406\nCount of positive differences (prediction > actual):\n679\nCount of negative differences:\n674\nAverage positive difference:\n286.83573742329327\nAverage negative difference:\n-306.63645291541627\n\n\n***********************************************\n\n\n",
          "name": "stdout"
        },
        {
          "output_type": "execute_result",
          "execution_count": 63,
          "data": {
            "text/plain": "-415.9928414076789"
          },
          "metadata": {}
        }
      ]
    }
  ],
  "metadata": {
    "kernelspec": {
      "name": "python36",
      "display_name": "Python 3.6",
      "language": "python"
    },
    "language_info": {
      "mimetype": "text/x-python",
      "nbconvert_exporter": "python",
      "name": "python",
      "pygments_lexer": "ipython3",
      "version": "3.6.6",
      "file_extension": ".py",
      "codemirror_mode": {
        "version": 3,
        "name": "ipython"
      }
    }
  },
  "nbformat": 4,
  "nbformat_minor": 2
}